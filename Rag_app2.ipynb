{
  "cells": [
    {
      "cell_type": "code",
      "source": [
        "# !pip install -qU langchain-google-genai\n",
        "# !pip install chromadb"
      ],
      "metadata": {
        "id": "UiBsInizl784"
      },
      "id": "UiBsInizl784",
      "execution_count": 18,
      "outputs": []
    },
    {
      "cell_type": "code",
      "source": [
        "from google.colab import userdata\n",
        "google_api_key = userdata.get('google_api_key')\n"
      ],
      "metadata": {
        "id": "8YsjRQiRysYM"
      },
      "id": "8YsjRQiRysYM",
      "execution_count": 19,
      "outputs": []
    },
    {
      "cell_type": "code",
      "source": [
        "import os\n",
        "from dotenv import load_dotenv\n",
        "from langchain_google_genai import ChatGoogleGenerativeAI\n",
        "from langchain.prompts import PromptTemplate, ChatPromptTemplate\n",
        "import chromadb\n",
        "from chromadb.utils import embedding_functions\n",
        "from langchain.schema import HumanMessage, SystemMessage, AIMessage\n",
        "import pandas as pd"
      ],
      "metadata": {
        "id": "zGF9br9OSv7S"
      },
      "id": "zGF9br9OSv7S",
      "execution_count": 20,
      "outputs": []
    },
    {
      "cell_type": "code",
      "source": [
        "from google.colab import drive\n",
        "drive.mount('/content/drive')"
      ],
      "metadata": {
        "colab": {
          "base_uri": "https://localhost:8080/"
        },
        "id": "S1hOTqgTzem9",
        "outputId": "5cce8dcc-db4a-406a-88e7-42bbe6923ed3"
      },
      "id": "S1hOTqgTzem9",
      "execution_count": 21,
      "outputs": [
        {
          "output_type": "stream",
          "name": "stdout",
          "text": [
            "Drive already mounted at /content/drive; to attempt to forcibly remount, call drive.mount(\"/content/drive\", force_remount=True).\n"
          ]
        }
      ]
    },
    {
      "cell_type": "code",
      "source": [
        "from google.colab import drive\n",
        "directory_path = '/content/drive/MyDrive/news/'"
      ],
      "metadata": {
        "id": "dopasrkxPqtH"
      },
      "id": "dopasrkxPqtH",
      "execution_count": 22,
      "outputs": []
    },
    {
      "cell_type": "code",
      "execution_count": 23,
      "id": "7360e7c1",
      "metadata": {
        "id": "7360e7c1"
      },
      "outputs": [],
      "source": [
        "model_name = \"models/gemini-2.0-flash-lite-preview\""
      ]
    },
    {
      "cell_type": "code",
      "execution_count": 24,
      "id": "4baca6c3",
      "metadata": {
        "id": "4baca6c3"
      },
      "outputs": [],
      "source": [
        "load_dotenv()\n",
        "google_api_key = google_api_key\n",
        "model = ChatGoogleGenerativeAI(model=model_name ,temperature=0, google_api_key=google_api_key)\n"
      ]
    },
    {
      "cell_type": "code",
      "execution_count": 25,
      "id": "41212371",
      "metadata": {
        "id": "41212371"
      },
      "outputs": [],
      "source": [
        "embedding_func = embedding_functions.GoogleGenerativeAiEmbeddingFunction(\n",
        "    api_key=google_api_key,\n",
        "    model_name=\"models/embedding-001\"\n",
        ")"
      ]
    },
    {
      "cell_type": "code",
      "execution_count": 26,
      "id": "338e5f29",
      "metadata": {
        "id": "338e5f29"
      },
      "outputs": [],
      "source": [
        "chroma_client = chromadb.PersistentClient(path=\"chroma_persistent_storage\")\n",
        "collection_name = \"document_qa_collection\"\n",
        "collection = chroma_client.get_or_create_collection(\n",
        "    name=collection_name, embedding_function = embedding_func\n",
        ")"
      ]
    },
    {
      "cell_type": "code",
      "execution_count": 27,
      "id": "9a5ccd98",
      "metadata": {
        "colab": {
          "base_uri": "https://localhost:8080/"
        },
        "id": "9a5ccd98",
        "outputId": "e5bff2b5-4cba-413e-effb-a60b646266d9"
      },
      "outputs": [
        {
          "output_type": "stream",
          "name": "stdout",
          "text": [
            "The average life expectancy in the United States is around 77 years. However, this number can vary depending on factors like sex, race, and socioeconomic status.\n",
            "Japan has one of the highest life expectancies in the world. The average life expectancy in Japan is around 84-85 years.\n"
          ]
        }
      ],
      "source": [
        "messages = [\n",
        "    SystemMessage(content=\"You are a helpful assistant.\"),\n",
        "    HumanMessage(content=\"What is human life expectancy in the United States?\"),\n",
        "]\n",
        "\n",
        "# Get first response\n",
        "resp = model.invoke(messages)\n",
        "print(resp.content)\n",
        "\n",
        "# Add the AI's response to history and ask follow-up\n",
        "messages.append(AIMessage(content=resp.content))\n",
        "messages.append(HumanMessage(content=\"What about in Japan?\"))\n",
        "\n",
        "# Get second response with full history\n",
        "follow_up = model.invoke(messages)\n",
        "print(follow_up.content)"
      ]
    },
    {
      "cell_type": "code",
      "execution_count": 28,
      "id": "3d968885",
      "metadata": {
        "id": "3d968885"
      },
      "outputs": [],
      "source": [
        "def load_documents_from_directory(directory_path):\n",
        "    print(\"==== Loading documents from directory ====\")\n",
        "    documents = []\n",
        "    for filename in os.listdir(directory_path):\n",
        "        if filename.endswith(\".txt\"):\n",
        "            with open(\n",
        "                os.path.join(directory_path, filename), \"r\", encoding=\"utf-8\"\n",
        "            ) as file:\n",
        "                documents.append({\"id\": filename, \"text\": file.read()})\n",
        "    return documents\n"
      ]
    },
    {
      "cell_type": "code",
      "execution_count": 29,
      "id": "3bb4a51d",
      "metadata": {
        "colab": {
          "base_uri": "https://localhost:8080/"
        },
        "id": "3bb4a51d",
        "outputId": "c6502717-1dd3-4536-f215-5fec1474329c"
      },
      "outputs": [
        {
          "output_type": "stream",
          "name": "stdout",
          "text": [
            "==== Loading documents from directory ====\n"
          ]
        }
      ],
      "source": [
        "# directory_path = \"./news_articles\"\n",
        "documents = load_documents_from_directory(directory_path)"
      ]
    },
    {
      "cell_type": "code",
      "execution_count": 30,
      "id": "039c39d0",
      "metadata": {
        "id": "039c39d0"
      },
      "outputs": [],
      "source": [
        "# for doc in documents:\n",
        "#     doc['text'] = doc['text'].replace(\"\\n\",\" \")\n",
        "#     doc['text'] = doc['text'].replace(\"  \",\" \")"
      ]
    },
    {
      "cell_type": "code",
      "execution_count": 31,
      "id": "40b81955",
      "metadata": {
        "colab": {
          "base_uri": "https://localhost:8080/"
        },
        "id": "40b81955",
        "outputId": "b7686f7f-5eeb-4610-d41d-ebfffa1a0c85"
      },
      "outputs": [
        {
          "output_type": "execute_result",
          "data": {
            "text/plain": [
              "{'id': '05-03-ai-powered-supply-chain-startup-pando-lands-30m-investment.txt',\n",
              " 'text': 'Signaling that investments in the supply chain sector remain robust, Pando, a startup developing fulfillment management technologies, today announced that it raised $30 million in a Series B round, bringing its total raised to $45 million.\\n\\nIron Pillar and Uncorrelated Ventures led the round, with participation from existing investors Nexus Venture Partners, Chiratae Ventures and Next47. CEO and founder Nitin Jayakrishnan says that the new capital will be put toward expanding Pando’s global sales, marketing and delivery capabilities.\\n\\n“We will not expand into new industries or adjacent product areas,” he told TechCrunch in an email interview. “Great talent is the foundation of the business — we will continue to augment our teams at all levels of the organization. Pando is also open to exploring strategic partnerships and acquisitions with this round of funding.”\\n\\nPando was co-launched by Jayakrishnan and Abhijeet Manohar, who previously worked together at iDelivery, an India-based freight tech marketplace — and their first startup. The two saw firsthand manufacturers, distributors and retailers were struggling with legacy tech and point solutions to understand, optimize and manage their global logistics operations — or at least, that’s the story Jayakrishnan tells.\\n\\n“Supply chain leaders were trying to build their own tech and throwing people at the problem,” he said. “This caught our attention — we spent months talking to and building for enterprise users at warehouses, factories, freight yards and ports and eventually, in 2018, decided to start Pando to solve for global logistics through a software-as-a-service platform offering.”\\n\\nThere’s truth to what Jayakrishnan’s expressing about pent-up demand. According to a recent McKinsey survey, supply chain companies had — and have — a strong desire for tools that deliver greater supply chain visibility. Sixty-seven percent of respondents to the survey say that they’ve implemented dashboards for this purpose, while over half say that they’re investing in supply chain visibility services more broadly.\\n\\nPando aims to meet the need by consolidating supply chain data that resides in multiple silos within and outside of the enterprise, including data on customers, suppliers, logistics service providers, facilities and product SKUs. The platform provides various tools and apps for accomplishing different tasks across freight procurement, trade and transport management, freight audit and payment and document management, as well as dispatch planning and analytics.\\n\\nCustomers can customize the tools and apps or build their own using Pando’s APIs. This, along with the platform’s emphasis on no-code capabilities, differentiates Pando from incumbents like SAP, Oracle, Blue Yonder and E2Open, Jayakrishnan asserts.\\n\\n“Pando comes pre-integrated with leading enterprise resource planning (ERPs) systems and has ready APIs and a professional services team to integrate with any new ERPs and enterprise systems,” he added. “Pando’s no-code capabilities enable business users to customize the apps while maintaining platform integrity — reducing the need for IT resources for each customization.”\\n\\nPando also taps algorithms and forms of machine learning to make predictions around supply chain events. For example, the platform attempts to match customer orders with suppliers, customers through the “right” channel (in terms of aspects like cost and carbon footprint) and fulfillment strategy (e.g. mode of freight, carrier, etc.). Beyond this, Pando can detect anomalies among deliveries, orders and freight invoices and anticipate supply chain risk given demand and supply trends.\\n\\nPando isn’t the only vendor doing this. Altana, which bagged $100 million in venture capital last October, uses an AI system to connect to and learn from logistics and business-to-business data — creating a shared view of supply chain networks. Everstream, another Pando rival, offers its own dashboards for data analysis, integrated with existing ERP, transportation management and supplier relationship management systems.\\n\\nBut Pando has a compelling sales pitch, judging by its momentum. The company counts Fortune 500 manufacturers and retailers — including P&G, J&J, Valvoline, Castrol, Cummins, Siemens, Danaher and Accuride — among its customer base. Since the startup’s Series A in 2020, revenue has grown 8x while the number of customers has increased 5x, Jayakrishnan said.\\n\\nAsked whether he expects expansion to continue well into the future, given the signs of potential trouble on the horizon, Jayakrishnan seemed fairly optimistic. He pointed to a Deloitte survey that found that more than 70% of manufacturing companies have been impacted by supply chain disruptions in the past year, with 90% of those companies experiencing increased costs and declining productivity.\\n\\nThe result of those major disruptions? The digital logistics market is estimated to climb to $46.5 billion by 2025, per Markets and Markets — up from $17.4 billion in 2019. Crunchbase reports that investors poured more than $7 billion in seed through growth-stage rounds globally for supply chain-focused startups from January to October 2022, nearly eclipsing 2021’s record-setting levels.\\n\\n“Pando has a strong balance sheet and profit and loss statement, with an eye on profitable growth,” Jayakrishnan said. “We’re are scaling operations in North America, Europe and India with marquee customer wins and a network of strong partners … Pando is well-positioned to ride this growth wave, and drive supply chain agility for the 2030 economy.”'}"
            ]
          },
          "metadata": {},
          "execution_count": 31
        }
      ],
      "source": [
        "documents[0]"
      ]
    },
    {
      "cell_type": "code",
      "execution_count": 32,
      "id": "b2c501bc",
      "metadata": {
        "colab": {
          "base_uri": "https://localhost:8080/",
          "height": 112
        },
        "id": "b2c501bc",
        "outputId": "4c309739-24b6-43e0-f87e-d447fc551e5f"
      },
      "outputs": [
        {
          "output_type": "execute_result",
          "data": {
            "text/plain": [
              "                                                  id  \\\n",
              "0  05-03-ai-powered-supply-chain-startup-pando-la...   \n",
              "1             05-03-ai-replace-tv-writers-strike.txt   \n",
              "\n",
              "                                                text  \n",
              "0  Signaling that investments in the supply chain...  \n",
              "1  In the must-watch final season of “Succession,...  "
            ],
            "text/html": [
              "\n",
              "  <div id=\"df-976bee1f-ef5d-4f71-8279-67ec4e40b1b4\" class=\"colab-df-container\">\n",
              "    <div>\n",
              "<style scoped>\n",
              "    .dataframe tbody tr th:only-of-type {\n",
              "        vertical-align: middle;\n",
              "    }\n",
              "\n",
              "    .dataframe tbody tr th {\n",
              "        vertical-align: top;\n",
              "    }\n",
              "\n",
              "    .dataframe thead th {\n",
              "        text-align: right;\n",
              "    }\n",
              "</style>\n",
              "<table border=\"1\" class=\"dataframe\">\n",
              "  <thead>\n",
              "    <tr style=\"text-align: right;\">\n",
              "      <th></th>\n",
              "      <th>id</th>\n",
              "      <th>text</th>\n",
              "    </tr>\n",
              "  </thead>\n",
              "  <tbody>\n",
              "    <tr>\n",
              "      <th>0</th>\n",
              "      <td>05-03-ai-powered-supply-chain-startup-pando-la...</td>\n",
              "      <td>Signaling that investments in the supply chain...</td>\n",
              "    </tr>\n",
              "    <tr>\n",
              "      <th>1</th>\n",
              "      <td>05-03-ai-replace-tv-writers-strike.txt</td>\n",
              "      <td>In the must-watch final season of “Succession,...</td>\n",
              "    </tr>\n",
              "  </tbody>\n",
              "</table>\n",
              "</div>\n",
              "    <div class=\"colab-df-buttons\">\n",
              "\n",
              "  <div class=\"colab-df-container\">\n",
              "    <button class=\"colab-df-convert\" onclick=\"convertToInteractive('df-976bee1f-ef5d-4f71-8279-67ec4e40b1b4')\"\n",
              "            title=\"Convert this dataframe to an interactive table.\"\n",
              "            style=\"display:none;\">\n",
              "\n",
              "  <svg xmlns=\"http://www.w3.org/2000/svg\" height=\"24px\" viewBox=\"0 -960 960 960\">\n",
              "    <path d=\"M120-120v-720h720v720H120Zm60-500h600v-160H180v160Zm220 220h160v-160H400v160Zm0 220h160v-160H400v160ZM180-400h160v-160H180v160Zm440 0h160v-160H620v160ZM180-180h160v-160H180v160Zm440 0h160v-160H620v160Z\"/>\n",
              "  </svg>\n",
              "    </button>\n",
              "\n",
              "  <style>\n",
              "    .colab-df-container {\n",
              "      display:flex;\n",
              "      gap: 12px;\n",
              "    }\n",
              "\n",
              "    .colab-df-convert {\n",
              "      background-color: #E8F0FE;\n",
              "      border: none;\n",
              "      border-radius: 50%;\n",
              "      cursor: pointer;\n",
              "      display: none;\n",
              "      fill: #1967D2;\n",
              "      height: 32px;\n",
              "      padding: 0 0 0 0;\n",
              "      width: 32px;\n",
              "    }\n",
              "\n",
              "    .colab-df-convert:hover {\n",
              "      background-color: #E2EBFA;\n",
              "      box-shadow: 0px 1px 2px rgba(60, 64, 67, 0.3), 0px 1px 3px 1px rgba(60, 64, 67, 0.15);\n",
              "      fill: #174EA6;\n",
              "    }\n",
              "\n",
              "    .colab-df-buttons div {\n",
              "      margin-bottom: 4px;\n",
              "    }\n",
              "\n",
              "    [theme=dark] .colab-df-convert {\n",
              "      background-color: #3B4455;\n",
              "      fill: #D2E3FC;\n",
              "    }\n",
              "\n",
              "    [theme=dark] .colab-df-convert:hover {\n",
              "      background-color: #434B5C;\n",
              "      box-shadow: 0px 1px 3px 1px rgba(0, 0, 0, 0.15);\n",
              "      filter: drop-shadow(0px 1px 2px rgba(0, 0, 0, 0.3));\n",
              "      fill: #FFFFFF;\n",
              "    }\n",
              "  </style>\n",
              "\n",
              "    <script>\n",
              "      const buttonEl =\n",
              "        document.querySelector('#df-976bee1f-ef5d-4f71-8279-67ec4e40b1b4 button.colab-df-convert');\n",
              "      buttonEl.style.display =\n",
              "        google.colab.kernel.accessAllowed ? 'block' : 'none';\n",
              "\n",
              "      async function convertToInteractive(key) {\n",
              "        const element = document.querySelector('#df-976bee1f-ef5d-4f71-8279-67ec4e40b1b4');\n",
              "        const dataTable =\n",
              "          await google.colab.kernel.invokeFunction('convertToInteractive',\n",
              "                                                    [key], {});\n",
              "        if (!dataTable) return;\n",
              "\n",
              "        const docLinkHtml = 'Like what you see? Visit the ' +\n",
              "          '<a target=\"_blank\" href=https://colab.research.google.com/notebooks/data_table.ipynb>data table notebook</a>'\n",
              "          + ' to learn more about interactive tables.';\n",
              "        element.innerHTML = '';\n",
              "        dataTable['output_type'] = 'display_data';\n",
              "        await google.colab.output.renderOutput(dataTable, element);\n",
              "        const docLink = document.createElement('div');\n",
              "        docLink.innerHTML = docLinkHtml;\n",
              "        element.appendChild(docLink);\n",
              "      }\n",
              "    </script>\n",
              "  </div>\n",
              "\n",
              "\n",
              "    <div id=\"df-867274d1-9a49-4088-b1dc-9860b285ded6\">\n",
              "      <button class=\"colab-df-quickchart\" onclick=\"quickchart('df-867274d1-9a49-4088-b1dc-9860b285ded6')\"\n",
              "                title=\"Suggest charts\"\n",
              "                style=\"display:none;\">\n",
              "\n",
              "<svg xmlns=\"http://www.w3.org/2000/svg\" height=\"24px\"viewBox=\"0 0 24 24\"\n",
              "     width=\"24px\">\n",
              "    <g>\n",
              "        <path d=\"M19 3H5c-1.1 0-2 .9-2 2v14c0 1.1.9 2 2 2h14c1.1 0 2-.9 2-2V5c0-1.1-.9-2-2-2zM9 17H7v-7h2v7zm4 0h-2V7h2v10zm4 0h-2v-4h2v4z\"/>\n",
              "    </g>\n",
              "</svg>\n",
              "      </button>\n",
              "\n",
              "<style>\n",
              "  .colab-df-quickchart {\n",
              "      --bg-color: #E8F0FE;\n",
              "      --fill-color: #1967D2;\n",
              "      --hover-bg-color: #E2EBFA;\n",
              "      --hover-fill-color: #174EA6;\n",
              "      --disabled-fill-color: #AAA;\n",
              "      --disabled-bg-color: #DDD;\n",
              "  }\n",
              "\n",
              "  [theme=dark] .colab-df-quickchart {\n",
              "      --bg-color: #3B4455;\n",
              "      --fill-color: #D2E3FC;\n",
              "      --hover-bg-color: #434B5C;\n",
              "      --hover-fill-color: #FFFFFF;\n",
              "      --disabled-bg-color: #3B4455;\n",
              "      --disabled-fill-color: #666;\n",
              "  }\n",
              "\n",
              "  .colab-df-quickchart {\n",
              "    background-color: var(--bg-color);\n",
              "    border: none;\n",
              "    border-radius: 50%;\n",
              "    cursor: pointer;\n",
              "    display: none;\n",
              "    fill: var(--fill-color);\n",
              "    height: 32px;\n",
              "    padding: 0;\n",
              "    width: 32px;\n",
              "  }\n",
              "\n",
              "  .colab-df-quickchart:hover {\n",
              "    background-color: var(--hover-bg-color);\n",
              "    box-shadow: 0 1px 2px rgba(60, 64, 67, 0.3), 0 1px 3px 1px rgba(60, 64, 67, 0.15);\n",
              "    fill: var(--button-hover-fill-color);\n",
              "  }\n",
              "\n",
              "  .colab-df-quickchart-complete:disabled,\n",
              "  .colab-df-quickchart-complete:disabled:hover {\n",
              "    background-color: var(--disabled-bg-color);\n",
              "    fill: var(--disabled-fill-color);\n",
              "    box-shadow: none;\n",
              "  }\n",
              "\n",
              "  .colab-df-spinner {\n",
              "    border: 2px solid var(--fill-color);\n",
              "    border-color: transparent;\n",
              "    border-bottom-color: var(--fill-color);\n",
              "    animation:\n",
              "      spin 1s steps(1) infinite;\n",
              "  }\n",
              "\n",
              "  @keyframes spin {\n",
              "    0% {\n",
              "      border-color: transparent;\n",
              "      border-bottom-color: var(--fill-color);\n",
              "      border-left-color: var(--fill-color);\n",
              "    }\n",
              "    20% {\n",
              "      border-color: transparent;\n",
              "      border-left-color: var(--fill-color);\n",
              "      border-top-color: var(--fill-color);\n",
              "    }\n",
              "    30% {\n",
              "      border-color: transparent;\n",
              "      border-left-color: var(--fill-color);\n",
              "      border-top-color: var(--fill-color);\n",
              "      border-right-color: var(--fill-color);\n",
              "    }\n",
              "    40% {\n",
              "      border-color: transparent;\n",
              "      border-right-color: var(--fill-color);\n",
              "      border-top-color: var(--fill-color);\n",
              "    }\n",
              "    60% {\n",
              "      border-color: transparent;\n",
              "      border-right-color: var(--fill-color);\n",
              "    }\n",
              "    80% {\n",
              "      border-color: transparent;\n",
              "      border-right-color: var(--fill-color);\n",
              "      border-bottom-color: var(--fill-color);\n",
              "    }\n",
              "    90% {\n",
              "      border-color: transparent;\n",
              "      border-bottom-color: var(--fill-color);\n",
              "    }\n",
              "  }\n",
              "</style>\n",
              "\n",
              "      <script>\n",
              "        async function quickchart(key) {\n",
              "          const quickchartButtonEl =\n",
              "            document.querySelector('#' + key + ' button');\n",
              "          quickchartButtonEl.disabled = true;  // To prevent multiple clicks.\n",
              "          quickchartButtonEl.classList.add('colab-df-spinner');\n",
              "          try {\n",
              "            const charts = await google.colab.kernel.invokeFunction(\n",
              "                'suggestCharts', [key], {});\n",
              "          } catch (error) {\n",
              "            console.error('Error during call to suggestCharts:', error);\n",
              "          }\n",
              "          quickchartButtonEl.classList.remove('colab-df-spinner');\n",
              "          quickchartButtonEl.classList.add('colab-df-quickchart-complete');\n",
              "        }\n",
              "        (() => {\n",
              "          let quickchartButtonEl =\n",
              "            document.querySelector('#df-867274d1-9a49-4088-b1dc-9860b285ded6 button');\n",
              "          quickchartButtonEl.style.display =\n",
              "            google.colab.kernel.accessAllowed ? 'block' : 'none';\n",
              "        })();\n",
              "      </script>\n",
              "    </div>\n",
              "\n",
              "    </div>\n",
              "  </div>\n"
            ],
            "application/vnd.google.colaboratory.intrinsic+json": {
              "type": "dataframe",
              "variable_name": "documents_df",
              "summary": "{\n  \"name\": \"documents_df\",\n  \"rows\": 21,\n  \"fields\": [\n    {\n      \"column\": \"id\",\n      \"properties\": {\n        \"dtype\": \"string\",\n        \"num_unique_values\": 21,\n        \"samples\": [\n          \"05-03-ai-powered-supply-chain-startup-pando-lands-30m-investment.txt\",\n          \"05-06-this-week-in-apps-apple-and-google-team-up-on-trackers-google-i-o-preview-apps-hit-newfronts.txt\",\n          \"05-06-ai-startups-q1-investments.txt\"\n        ],\n        \"semantic_type\": \"\",\n        \"description\": \"\"\n      }\n    },\n    {\n      \"column\": \"text\",\n      \"properties\": {\n        \"dtype\": \"string\",\n        \"num_unique_values\": 21,\n        \"samples\": [\n          \"Signaling that investments in the supply chain sector remain robust, Pando, a startup developing fulfillment management technologies, today announced that it raised $30 million in a Series B round, bringing its total raised to $45 million.\\n\\nIron Pillar and Uncorrelated Ventures led the round, with participation from existing investors Nexus Venture Partners, Chiratae Ventures and Next47. CEO and founder Nitin Jayakrishnan says that the new capital will be put toward expanding Pando\\u2019s global sales, marketing and delivery capabilities.\\n\\n\\u201cWe will not expand into new industries or adjacent product areas,\\u201d he told TechCrunch in an email interview. \\u201cGreat talent is the foundation of the business \\u2014 we will continue to augment our teams at all levels of the organization. Pando is also open to exploring strategic partnerships and acquisitions with this round of funding.\\u201d\\n\\nPando was co-launched by Jayakrishnan and Abhijeet Manohar, who previously worked together at iDelivery, an India-based freight tech marketplace \\u2014 and their first startup. The two saw firsthand manufacturers, distributors and retailers were struggling with legacy tech and point solutions to understand, optimize and manage their global logistics operations \\u2014 or at least, that\\u2019s the story Jayakrishnan tells.\\n\\n\\u201cSupply chain leaders were trying to build their own tech and throwing people at the problem,\\u201d he said. \\u201cThis caught our attention \\u2014 we spent months talking to and building for enterprise users at warehouses, factories, freight yards and ports and eventually, in 2018, decided to start Pando to solve for global logistics through a software-as-a-service platform offering.\\u201d\\n\\nThere\\u2019s truth to what Jayakrishnan\\u2019s expressing about pent-up demand. According to a recent McKinsey survey, supply chain companies had \\u2014 and have \\u2014 a strong desire for tools that deliver greater supply chain visibility. Sixty-seven percent of respondents to the survey say that they\\u2019ve implemented dashboards for this purpose, while over half say that they\\u2019re investing in supply chain visibility services more broadly.\\n\\nPando aims to meet the need by consolidating supply chain data that resides in multiple silos within and outside of the enterprise, including data on customers, suppliers, logistics service providers, facilities and product SKUs. The platform provides various tools and apps for accomplishing different tasks across freight procurement, trade and transport management, freight audit and payment and document management, as well as dispatch planning and analytics.\\n\\nCustomers can customize the tools and apps or build their own using Pando\\u2019s APIs. This, along with the platform\\u2019s emphasis on no-code capabilities, differentiates Pando from incumbents like SAP, Oracle, Blue Yonder and E2Open, Jayakrishnan asserts.\\n\\n\\u201cPando comes pre-integrated with leading enterprise resource planning (ERPs) systems and has ready APIs and a professional services team to integrate with any new ERPs and enterprise systems,\\u201d he added. \\u201cPando\\u2019s no-code capabilities enable business users to customize the apps while maintaining platform integrity \\u2014 reducing the need for IT resources for each customization.\\u201d\\n\\nPando also taps algorithms and forms of machine learning to make predictions around supply chain events. For example, the platform attempts to match customer orders with suppliers, customers through the \\u201cright\\u201d channel (in terms of aspects like cost and carbon footprint) and fulfillment strategy (e.g. mode of freight, carrier, etc.). Beyond this, Pando can detect anomalies among deliveries, orders and freight invoices and anticipate supply chain risk given demand and supply trends.\\n\\nPando isn\\u2019t the only vendor doing this. Altana, which bagged $100 million in venture capital last October, uses an AI system to connect to and learn from logistics and business-to-business data \\u2014 creating a shared view of supply chain networks. Everstream, another Pando rival, offers its own dashboards for data analysis, integrated with existing ERP, transportation management and supplier relationship management systems.\\n\\nBut Pando has a compelling sales pitch, judging by its momentum. The company counts Fortune 500 manufacturers and retailers \\u2014 including P&G, J&J, Valvoline, Castrol, Cummins, Siemens, Danaher and Accuride \\u2014 among its customer base. Since the startup\\u2019s Series A in 2020, revenue has grown 8x while the number of customers has increased 5x, Jayakrishnan said.\\n\\nAsked whether he expects expansion to continue well into the future, given the signs of potential trouble on the horizon, Jayakrishnan seemed fairly optimistic. He pointed to a Deloitte survey that found that more than 70% of manufacturing companies have been impacted by supply chain disruptions in the past year, with 90% of those companies experiencing increased costs and declining productivity.\\n\\nThe result of those major disruptions? The digital logistics market is estimated to climb to $46.5 billion by 2025, per Markets and Markets \\u2014 up from $17.4 billion in 2019. Crunchbase reports that investors poured more than $7 billion in seed through growth-stage rounds globally for supply chain-focused startups from January to October 2022, nearly eclipsing 2021\\u2019s record-setting levels.\\n\\n\\u201cPando has a strong balance sheet and profit and loss statement, with an eye on profitable growth,\\u201d Jayakrishnan said. \\u201cWe\\u2019re are scaling operations in North America, Europe and India with marquee customer wins and a network of strong partners \\u2026 Pando is well-positioned to ride this growth wave, and drive supply chain agility for the 2030 economy.\\u201d\",\n          \"Welcome back to This Week in Apps, the weekly TechCrunch series that recaps the latest in mobile OS news, mobile applications and the overall app economy.\\n\\nThe app economy in 2023 hit a few snags, as consumer spending last year dropped for the first time by 2% to $167 billion, according to data.ai\\u2019s \\u201cState of Mobile\\u201d report. However, downloads are continuing to grow, up 11% year-over-year in 2022 to reach 255 billion. Consumers are also spending more time in mobile apps than ever before. On Android devices alone, hours spent in 2022 grew 9%, reaching 4.1 trillion.\\n\\nThis Week in Apps offers a way to keep up with this fast-moving industry in one place with the latest from the world of apps, including news, updates, startup fundings, mergers and acquisitions, and much more.\\n\\nDo you want This Week in Apps in your inbox every Saturday? Sign up here: techcrunch.com/newsletters\\n\\nTop Stories\\n\\nDorsey criticizes Twitter, Musk on the alternative social networks he\\u2019s backing\\n\\nAs demand for Bluesky, the Jack Dorsey-backed decentralized Twitter rival grows, the former Twitter CEO took to the app to share his thoughts on Twitter\\u2019s future, Elon Musk and the decision to take the company private. As TechCrunch\\u2019s Darrell Etherington reported, Dorsey responded to questions posed to him from other users and reporters on Bluesky, including one where he was asked if Musk has proven to be the best possible steward for the social network.\\n\\nDorsey said he had not:\\n\\nNo. Nor do I think he acted right after realizing his timing was bad. Nor do I think the board should have forced the sale. It all went south. But it happened and all we can do now is build something to avoid that ever happening again. So I\\u2019m happy Jay and team and nostr devs exist and building it.\\n\\nHowever, the Twitter co-founder stressed that Twitter would have never survived as a public company and defended himself from an accusation that he was deflecting blame for Twitter\\u2019s current situation.\\n\\nThough Bluesky is having a moment, particularly as a haven for marginalized groups, sex workers and trans users, it\\u2019s not the only Twitter alternative Dorsey is now backing. In fact, he\\u2019s been more active in recent days on the social network nostr (which he also financially backed), where he\\u2019s also been critical of some of Musk\\u2019s recent decisions. For example, as The NYT reported, Dorsey posted last month \\u201cThis is weak,\\u201d in response to Musk\\u2019s move to stop Twitter users from linking to Substack after it launched a Twitter-like service for its own community of writers and readers.\\n\\nDorsey also touted his belief in these platforms during Block\\u2019s recent earnings call, suggesting on his nostr profile this may be the first time the network\\u2019s name had been mentioned during a public earnings event.\\n\\n\\u201cOpen protocols represent another fork in the road moment for people and companies,\\u201d Dorsey told investors. \\u201cBitcoin, nostr, Bluesky, web5 and others are all working to level the playing field for competition and give individuals and organizations entirely new capabilities,\\u201d he added.\\n\\nOver the past few weeks, Bluesky has been gaining traction, but the network has been difficult to access due to its invite-only nature. That\\u2019s turned Bluesky invites into hot commodities, where they\\u2019re even selling for hundreds of dollars on eBay, as most users have to wait to receive only one invite every two weeks.\\n\\nBluesky leadership will also sometimes gift a user with a larger number of invites in order to have them invite members of a specific community. Developers who can demonstrate they\\u2019re building a Bluesky app may also request additional invites, we understand.\\n\\nThe network has received outsized press coverage relative to its size \\u2014 just 50,000+ users \\u2014 possibly because of the heavy infusion of tech journalists on there and Dorsey\\u2019s name attached. But the reality is that Bluesky\\u2019s future remains uncertain. The company, for now, is able to build and grow thanks to the $13 million in initial funds it received from Twitter, where it was incubated under Dorsey\\u2019s leadership. It has since spun out into its own, independent company (a public benefit LLC). It\\u2019s unclear how Bluesky intends to maintain its operations in the long term, not to mention its freewheeling culture and accepting community. Networks can often be pleasant and welcoming when small, like Bluesky \\u2014 or early Twitter, for that matter \\u2014 but face challenges once they scale to millions of users.\\n\\nNewFronts round-up\\n\\nThis week was IAB\\u2019s NewFronts, where digital media companies and social networks pitched their platforms to advertisers looking to reach online audiences. The event saw major brands introducing a range of new offerings, including both ad products and formats, as well as touting their latest features, in some cases, as Snap did with its My AI integration.\\n\\nHere\\u2019s what you may have missed from the app makers\\u2019 NewFronts this week:\\n\\nSnap said it\\u2019s beginning to test a feature that lets partners leverage its new My AI chatbot to place sponsored links in front of users. Snap also announced new ad slots, including the option to reserve the first video ad seen in Snapchat\\u2019s Friend Stories and the ability to advertise within its TikTok-like Spotlight feature.\\n\\nSnap also announced including the option to reserve the and the ability to YouTube introduced new ad opportunities for Shorts, including the expansion of Shorts into Video reach campaigns that leverage Google AI to serve the best combination of ads and improve reach on YouTube. Plus, YouTube Select is now coming to Shorts, allowing advertisers to place their ads alongside the most popular YouTube Shorts\\u2019 content, similar to TikTok Pulse. Another option, First Position on Shorts, will let advertisers be the first ad Shorts users see in their viewing session.\\n\\nincluding the that leverage Google AI to serve the best combination of ads and improve reach on YouTube. Plus, allowing advertisers to place their ads alongside the most popular YouTube Shorts\\u2019 content, similar to TikTok Pulse. Another option, will let advertisers be the first ad Shorts users see in their viewing session. TikTok announced partnerships with big-name publishers, including NBCU, Cond\\u00e9 Nast, DotDash Meredith, BuzzFeed and others, in an effort to pull in more premium ad dollars. The new premium ad product, Pulse Premiere, would allow marketers, for the first time, to position their brand ads directly after TikTok\\u2019s publisher and media partners\\u2019 content in over a dozen categories, including lifestyle, sports, entertainment, education and more. Publisher partners would receive a rev share as a result.\\n\\nThe would allow marketers, for the first time, to position their brand ads directly after TikTok\\u2019s publisher and media partners\\u2019 content in over a dozen categories, including lifestyle, sports, entertainment, education and more. Publisher partners would receive a rev share as a result. Meta announced AR would become available to Reels Ads and Facebook Stories. They had previously been available only to the Facebook Feed, Instagram Feed and Instagram Stories. It also announced features to make Reels Ads more interactive, including a t est of a larger \\u201ccall to action\\u201d button with additional advertiser information on Facebook and Instagram Reels ads. Other updates included multi-destination product ads, the ability to pause a video ad to preview a link\\u2019s destination and support for Reels Ads campaigns with select third-party measurement firms .\\n\\nThey had previously been available only to the Facebook Feed, Instagram Feed and Instagram Stories. It also announced features to make Reels Ads more interactive, including a t with additional advertiser information on Facebook and Instagram Reels ads. Other updates included the ability to and support for . NBCU will let Peacock users shop products that appear in its content through \\u201cMust ShopTV,\\u201d which puts a QR code on the screen when a shoppable product appears.\\n\\nApple & Google team up on Bluetooth tracker safety\\n\\nAfter numerous cases of Bluetooth trackers like Apple\\u2019s AirTag being used for stalking or other criminal apps, Apple and Google this week released a joint announcement saying they will work together to lead an industry-wide initiative to draft a specification that would alert users in the case of unwanted tracking from Bluetooth devices. The companies said they\\u2019re seeking input from other industry participants and advocacy groups in the matter, and noted that other tracker makers like Samsung, Tile, Chipolo, eufy Security and Pebblebee have also expressed interest in the draft.\\n\\nThe companies submitted a proposed specification as an Internet-Draft via a standards development organization, the Internet Engineering Task Force (IETF). Other interested parties are now being invited to review and comment over the next three months. After this time, Apple and Google will offer feedback and will release a production implementation of the specification by year\\u2019s end that will be supported in future versions of iOS and Android, they said.\\n\\nThe spec would build on the AirTag protections Apple had already released but also, critically, would ensure that users would be able to combat unwanted tracking by offering tools across both iOS and Android platforms.\\n\\nGoogle\\u2019s participation could signal more than a desire to protect its users \\u2014 it\\u2019s been rumored the company may also be developing an AirTag rival.\\n\\nPlatforms\\n\\nApple\\n\\nGoogle \\u2014 I/O Preview\\n\\nGoogle I/O kicks off next week and we already know at least one of the announcements \\u2014 because Google leaked it. The company plans to introduce its first foldable smartphone with the Pixel Fold. The device shares Pixel\\u2019s familiar camera bar and features an interface that showcases Material UI design. We expect to learn more at the event.\\n\\nIn addition, Google I/O 2023 should bring a Pixel 7a , a budget device that could also help address Pixel demand in emerging markets, plus possibly a Pixel tablet, an AirTag rival, a Wear OS update, and a lot of new developer tools and features. We also expect to hear quite a bit about Google\\u2019s AI plans, with generative AI (like Bard) appearing across Google\\u2019s line of products.\\n\\n, a budget device that could also help address Pixel demand in emerging markets, plus possibly a Pixel tablet, an AirTag rival, a Wear OS update, and a lot of new developer tools and features. We also expect to hear quite a bit about Google\\u2019s AI plans, with generative AI (like Bard) appearing across Google\\u2019s line of products. To get ready for I/O, even if you\\u2019re attending virtually, Google offered a new planning guide and a playlist of developer content to help attendees prepare.\\n\\nto help attendees prepare. Checks, Google\\u2019s AI-powered data protection project, exited to Google from its in-house incubator Area 120. The tool uses AI to check mobile apps for compliance with various privacy rules and regulations.\\n\\nApp Updates\\n\\nSocial\\n\\nSocial networking app IRL\\u2019s CEO Abraham Shafi stepped down following allegations he used bots to inflate the number of users IRL reported publicly and to its investors , The Information reported. A former employee had alleged he was fired after expressing concern over the use of bots. The SEC is now investigating if the company violated securities laws. IRL raised around $200 million from SoftBank Vision Fund, Founders Fund and others.\\n\\n, The Information reported. A former employee had alleged he was fired after expressing concern over the use of bots. The SEC is now investigating if the company violated securities laws. IRL raised around $200 million from SoftBank Vision Fund, Founders Fund and others. After laying off 50% of staff, declining audio social network Clubhouse says it\\u2019s building \\u201cClubhouse 2.0,\\u201d but hasn\\u2019t shared exactly what that plan may involve. Last year, the company began shifting its focus away from public audio to private rooms but it\\u2019s not clear there\\u2019s much demand for audio social networking in the post-pandemic market.\\n\\nbut hasn\\u2019t shared exactly what that plan may involve. Last year, the company began shifting its focus away from public audio to private rooms but it\\u2019s not clear there\\u2019s much demand for audio social networking in the post-pandemic market. Once-hot viral app Poparazzi shuts down and returns remaining funds to investors. The app had let friends tag others to build out their social profiles of real moments, not polished images, but had been on the decline, with only a few thousand MAUs down from a height of 4 million MAUs previously.\\n\\nA Twitter bug saw users able to regain their blue Verification checks just by editing their bio. Shortly afterward, the Twitter desktop website began randomly logging out users. Later in the week, the mobile website was also down.\\n\\nShortly afterward, the Twitter desktop website began randomly logging out users. Later in the week, the mobile website was also down. As Bluesky gains attention, rival decentralized social platform Mastodon announced a new, simpler onboarding experience that provides new users with an account on mastodon.social by default , instead of requiring them to pick a server. This doesn\\u2019t eliminate server choice, it simply means that joining another server requires a few extra clicks.\\n\\n, instead of requiring them to pick a server. This doesn\\u2019t eliminate server choice, it simply means that joining another server requires a few extra clicks. Neighborhood social network Nextdoor added new features powered by generative AI, including an Assistant feature aimed at helping users write posts that are more likely to drive positive community engagement. The Assistant will offer writing suggestions that users can review and optionally adopt. The company says it will also use AI to better match content to users when providing recommendations.\\n\\nincluding an Assistant feature aimed at helping users write posts that are more likely to drive positive community engagement. The Assistant will offer writing suggestions that users can review and optionally adopt. The company says it will also use AI to better match content to users when providing recommendations. BeReal is testing another new feature in the U.K., \\u201cRealPeople,\\u201d that shows users a timeline of the \\u201cworld\\u2019s most interesting people\\u201d \\u2014 that is, athletes, artists, activists and other public figures. The company also recently began testing the option to post more often as usage has declined.\\n\\nand other public figures. The company also recently began testing the option to post more often as usage has declined. Meta introduced new discovery and personalization options for Facebook Reels. Users can now choose \\u201cShow More\\u201d or \\u201cShow Less\\u201d options to control what sort of Reels they want to see. Facebook will also explain why it\\u2019s showing you a Reel, like if a friend viewed it, and is adding Reels to the main navigation at the top of Facebook Watch.\\n\\nWordPress drops Twitter integration, says sharing to Instagram and Mastodon is coming instead. The Automattic-owned publishing platform said the Twitter connection on Jetpack and WordPress.com will cease to work, meaning users\\u2019 blog posts will no longer be auto-shared to Twitter as before. The company said Elon Musk\\u2019s decision to \\u201cdramatically change the terms and pricing\\u201d for Twitter\\u2019s API was to blame for this decision. The API now starts at $42,000/month for 50 million tweets. The move will likely hurt Twitter more than WordPress, as the latter powers over 40% of the global internet, including WordPress.com blogs.\\n\\nThe Automattic-owned publishing platform said the Twitter connection on Jetpack and WordPress.com will cease to work, meaning users\\u2019 blog posts will no longer be auto-shared to Twitter as before. The company said Elon Musk\\u2019s decision to \\u201cdramatically change the terms and pricing\\u201d for Twitter\\u2019s API was to blame for this decision. The API now starts at $42,000/month for 50 million tweets. The move will likely hurt Twitter more than WordPress, as the latter powers over 40% of the global internet, including WordPress.com blogs. Mozilla announced it\\u2019s opening up its own Mastodon server \\u2014 or \\u201cinstance,\\u201d in Mastodon lingo \\u2014 into private beta testing. The company had said last year it planned to create and begin testing a publicly accessible instance at mozilla.social. It explains its approach to Mastodon will involve high levels of moderation.\\n\\nThe company had said last year it planned to create and begin testing a publicly accessible instance at mozilla.social. It explains its approach to Mastodon will involve high levels of moderation. Twitter announced it would make its API free for public service announcements after New York\\u2019s Metro Transit Service (MTS) abandoned the service and the National Weather Services (NWS) said it would no longer auto-post warnings.\\n\\nafter New York\\u2019s Metro Transit Service (MTS) abandoned the service and the National Weather Services (NWS) said it would no longer auto-post warnings. TikTok\\u2019s U.S. head of trust and safety Eric Han is leaving the company on May 12 as lawmakers weigh a TikTok ban. Han had played a key role in TikTok\\u2019s strategy to avoid a U.S. ban.\\n\\nas lawmakers weigh a TikTok ban. Han had played a key role in TikTok\\u2019s strategy to avoid a U.S. ban. Discord is making all users change their usernames, the company announced this week. Originally, Discord users had been identified by a name and random number separated by a hash sign, but now it wants to adopt a simpler format so people can more easily share their usernames with others. The new plan will include a unique alphanumeric username with the @ symbol in front of it, plus a freely assignable display name that can be changed at any time.\\n\\nAI\\n\\nSlack introduced SlackGPT, its own generative AI built on Slack\\u2019s platform which developers can use to create AI-driven experiences.\\n\\nwhich developers can use to create AI-driven experiences. Microsoft launched its Bing chatbot to all users globally, meaning there\\u2019s no more waitlist to get started. It\\u2019s also adding more image- and graphic-centric answers in Bing Chat, including by creating graphs and charts and generating images from text prompts. It will also allow users to export their Bing Chat histories. And it will embrace multimodality, meaning it can understand queries with images and text combined. Bing now sees more than 100 million daily active users and says visitors have engaged in over half a billion chats.\\n\\nIt\\u2019s also adding more image- and graphic-centric answers in Bing Chat, including by creating graphs and charts and generating images from text prompts. It will also allow users to export their Bing Chat histories. And it will embrace multimodality, meaning it can understand queries with images and text combined. Bing now sees more than 100 million daily active users and says visitors have engaged in over half a billion chats. Plexamp, the music player originally incubated by the Labs division of media company Plex, is tapping into ChatGPT with its latest update. The new feature called \\u201cSonic Sage,\\u201d powered by OpenAI\\u2019s ChatGPT, will build unique music playlists by scanning users\\u2019 libraries and leveraging their TIDAL subscription.\\n\\nMedia & Entertainment\\n\\nFintech\\n\\nYC-backed Kenyan fintech Fingo launched its neobanking app, developed in collaboration with Pan-African financial institution Ecobank Kenya. The company raised $4 million in seed funding after its YC S21 participation. Fingo offers users a bank account, paired with free peer-to-peer transactions and access to savings, financial education and smart spending analytics.\\n\\nThe company raised $4 million in seed funding after its YC S21 participation. Fingo offers users a bank account, paired with free peer-to-peer transactions and access to savings, financial education and smart spending analytics. The FDIC is looking into Tellus, an Andreessen Horowitz-backed fintech company that claims it can offer people higher yields on their savings balances by using that money to fund certain U.S. single-family-home loans. U.S. Senator Sherrod Brown, chairman of the Senate Banking, Housing, and Urban Affairs Committee, wrote a letter to FDIC Chairman Martin Gruenberg expressing concerns about Tellus, and asking the FDIC to review Tellus\\u2019s business practices which may put customers at risk.\\n\\nMessaging\\n\\nWhatsApp now lets users create single-vote polls and forward media with captions, Meta announced this week. Single-vote polls let users run a poll where people are only allowed to vote once, including multiple choice, as has been the default.\\n\\nMeta announced this week. Single-vote polls let users run a poll where people are only allowed to vote once, including multiple choice, as has been the default. Reddit\\u2019s latest update provides link previews for messaging apps. Now, when you share a Reddit link via a messaging app, it will include a visual preview of the content, the subreddit name, the total upvotes tally and the number of comments. The update also includes the ability to share directly to IG Stories and other tools for publishers.\\n\\nTravel & Transportation\\n\\nFollowing its acquisition by Via, Citymapper said it\\u2019s lowering the paywall for its premium features while also introducing a new subscription plan ($1.49/mo) purely for removing ads.\\n\\nwhile also introducing a new subscription plan ($1.49/mo) purely for removing ads. Uber reported a Q1 earnings beat with its revenue up 29% YoY to $8.82 billion, gross bookings up 19% YoY to $31.4 billion and adjusted EBITDA up 353% YoY to $761 million. It also reported a $157 million net loss.\\n\\ngross bookings up 19% YoY to $31.4 billion and adjusted EBITDA up 353% YoY to $761 million. It also reported a $157 million net loss. Uber Eats is also planning to offer support for Live Activities and Dynamic Island on iPhone and integrated with Alexa for order updates.\\n\\nfor order updates. Lyft shared worrisome Q2 guidance sending its stock down after Q1 earnings where it had reported a 14% YoY increase in revenue to $1 billion and a net loss drop of 5% to $187.6 million. Ridership was up 9.8% YoY to 19.5 million.\\n\\nGaming\\n\\nSnowman, the mobile game studio behind Alto\\u2019s Adventure and Alto\\u2019s Odyssey, launched its newest title, Laya\\u2019s Horizon, exclusively with Netflix. The wingsuit game sees players mastering the art of flying, diving off mountains, weaving across forests and gliding over rivers to unlock new abilities as they explore a vast and peaceful world.\\n\\nCross-platform game engine Unity announced layoffs of 8% of its workforce, or around 600 jobs, after laying off 500+ in January and last June.\\n\\nafter laying off 500+ in January and last June. Amazon announced that customers in the United States, Canada, Germany and the United Kingdom can now play Fortnite on their Fire TVs via its Amazon Luna cloud gaming service.\\n\\nCommerce & Food Delivery\\n\\nAmazon Inspire, the e-commerce giant\\u2019s in-app TikTok-like shopping feed has rolled out to all customers in the United States. The company had been experimenting since last year with the new feed, which features content creators by influencers.\\n\\nThe company had been experimenting since last year with the new feed, which features content creators by influencers. DoorDash revenue was up 40% YoY in Q1, reaching $2.04 billion, beating estimates of $1.93 billion. Its net loss also declined 3% to $162 million and orders were up 27% to 512 million.\\n\\nEtc.\\n\\nAmazon rolled out a Matter update for Alexa that includes support for Thread, setup on iOS, and a new version of its Works with Alexa program.\\n\\nand a new version of its Works with Alexa program. Match Group posted a Q1 earnings miss with revenue down by 1% YoY to $787 million and paying users down 3% to 15.9 million. The company, however, said it\\u2019s \\u201cvery possible\\u201d the recent Apple-Epic court decision could result in App Store fee relief.\\n\\nMedtech startup Healthy.io, which provides urine analysis through a mobile app, is laying off a third of its staff, or around 70 people. The company had just raised $50 million in Series D funding.\\n\\nThe company had just raised $50 million in Series D funding. Airbnb announced Rooms, a feature that focuses on the ability to book single rooms averaging $67 per night as users complain about excessive fees, onerous checkout procedures and rising Airbnb prices.\\n\\naveraging $67 per night as users complain about excessive fees, onerous checkout procedures and rising Airbnb prices. Google\\u2019s smart home app, Google Home, added support for smart garage door openers.\\n\\nSecurity\\n\\nGoogle announced that passkeys are now rolling out to Google Account users globally. Passkey let users sign in to websites and apps using the same biometrics or screen-lock PIN they use to unlock their devices.\\n\\nPasskey let users sign in to websites and apps using the same biometrics or screen-lock PIN they use to unlock their devices. Google announced that in 2022, it prevented 1.43 million policy-violating apps from being published on Google Play \\u201cin part due to new and improved security features and policy enhancements.\\u201d\\n\\nGovernment, Policy and Lawsuits\\n\\nThe EU\\u2019s Digital Markets Act (DMA) became applicable on May 2, but enforcement is not expected until spring 2024. The act focused on gatekeepers like Apple, Google, Meta and Microsoft. It limits how they can use third-party data, bans self-preferencing, introduces interoperability requirements, bans tracking users for targeted ads without consent and more. It also says app stores can\\u2019t require the use of their own payment services and permits app sideloading.\\n\\nBipartisan U.S. lawmakers reintroduced the Kids Online Safety Act with updates aimed at fixing earlier issues. The bill says platforms have to take reasonable steps to stop the spread of posts that promote eating disorders, suicide, substance abuse and more and undergo independent analysis about their safety for minors. It now also includes protections for support services, like the National Suicide Hotline, substance abuse groups and LGBTQ+ youth centers. However, critics, including the ACLU, say the changes are not enough and they remain opposed to the increased surveillance of kids this bill would require and other matters.\\n\\nThe bill says platforms have to take reasonable steps to stop the spread of posts that promote eating disorders, suicide, substance abuse and more and undergo independent analysis about their safety for minors. It now also includes protections for support services, like the National Suicide Hotline, substance abuse groups and LGBTQ+ youth centers. However, critics, including the ACLU, say the changes are not enough and they remain opposed to the increased surveillance of kids this bill would require and other matters. France\\u2019s competition watchdog announced interim measures against Meta, saying it suspects Meta of abusing its dominant position in the French market for ads on social media and across the broader (non-search-related) online ads market.\\n\\nsaying it suspects Meta of abusing its dominant position in the French market for ads on social media and across the broader (non-search-related) online ads market. The U.S. Federal Trade Commission (FTC) says Meta has \\u201crepeatedly violated\\u201d privacy rules and proposed to tighten its 2020 privacy order against the company, which would completely bar it from monetizing data from anyone under 18 in any way, among other new restrictions. The FTC also accused Meta of COPPA, a children\\u2019s privacy law, by misrepresenting its Messenger Kids parental controls, which allowed group chats and group calls with unapproved contacts.\\n\\nFunding and M&A\\n\\nAmazon acquired a small audio-focused artificial intelligence firm called Snackable.AI in 2022, The Post reported. Deal terms weren\\u2019t disclosed but Mari Joller, the founder and CEO of Snackable, is now the artificial intelligence and machine learning product leader at Amazon.\\n\\nDownloads\\n\\nRTRO\\n\\nNew social networking startup RTRO launched its app this week with the goal of connecting brands, creators and their fans and followers in a more positive environment focused on human connections and communities, not algorithm-driven content. To accomplish this, RTRO divides its social experience into two parts \\u2014 on one side, you can keep up with friends or family in RTRO\\u2019s \\u201ccircles.\\u201d On the other side, users can switch over to see content from creators and brands in their own space, dubbed RTRO TV.\\n\\nDistroKid\\n\\nMusic distribution service DistroKid this week launched its first mobile app, initially only for iPhone. The new app lets artists upload new releases, receive instant payment alerts, access stats from Apple and Spotify, edit metadata and more from their phones. The company said the mobile app had been the number one request from DistroKid members.\",\n          \"The best way to avoid a down round is to found an AI startup\\n\\nAs we see unicorns slash staff and the prevalence of down rounds spike, it may seem that the startup ecosystem is chock-full of bad news and little else. That\\u2019s not precisely the case.\\n\\nWhile AI, and in particular the generative AI subcategory, are as hot as the sun, not all venture attention is going to the handful of names that you already know. Sure, OpenAI is able to land nine and 10-figure rounds from a murderer\\u2019s row of tech investors and mega-cap corporations. And rising companies like Hugging Face and Anthropic cannot stay out of the news, proving that smaller AI-focused startups are doing more than well.\\n\\nIn fact, new data from Carta, which provides cap table management and other services, indicates that AI-focused startups are outperforming their larger peer group at both the seed and Series A stage.\\n\\nThe dataset, which notes that AI-centered startups are raising more and at higher valuations than other startups, indicates that perhaps the best way to avoid a down round today is to build in the artificial intelligence space.\\n\\nWhat the data says\\n\\nPer Carta data relating to the first quarter of the year, seed funding to non-AI startups in the U.S. market that use its services dipped from $1.64 billion to $1.08 billion, or a decline of around 34%. That result is directionally aligned with other data that we\\u2019ve seen regarding Q1 2023 venture capital totals; the data points down.\"\n        ],\n        \"semantic_type\": \"\",\n        \"description\": \"\"\n      }\n    }\n  ]\n}"
            }
          },
          "metadata": {},
          "execution_count": 32
        }
      ],
      "source": [
        "documents_df = pd.DataFrame(documents)\n",
        "documents_df.head(2)"
      ]
    },
    {
      "cell_type": "code",
      "source": [],
      "metadata": {
        "id": "KUnB0aKozTVV"
      },
      "id": "KUnB0aKozTVV",
      "execution_count": 32,
      "outputs": []
    },
    {
      "cell_type": "code",
      "execution_count": 33,
      "id": "73562e34",
      "metadata": {
        "colab": {
          "base_uri": "https://localhost:8080/"
        },
        "id": "73562e34",
        "outputId": "227c19cb-442c-49be-90a4-7b0687e96882"
      },
      "outputs": [
        {
          "output_type": "execute_result",
          "data": {
            "text/plain": [
              "<spacy.pipeline.sentencizer.Sentencizer at 0x7e0ff5951c50>"
            ]
          },
          "metadata": {},
          "execution_count": 33
        }
      ],
      "source": [
        "from spacy.lang.en import English\n",
        "\n",
        "nlp = English()\n",
        "nlp.add_pipe(\"sentencizer\")\n"
      ]
    },
    {
      "cell_type": "code",
      "execution_count": 34,
      "id": "7d179a9b",
      "metadata": {
        "colab": {
          "base_uri": "https://localhost:8080/"
        },
        "id": "7d179a9b",
        "outputId": "9b59838c-5f98-44b5-a0ae-38cfcf8a4871"
      },
      "outputs": [
        {
          "output_type": "stream",
          "name": "stderr",
          "text": [
            "100%|██████████| 21/21 [00:00<00:00, 56.92it/s]\n"
          ]
        }
      ],
      "source": [
        "from tqdm import tqdm\n",
        "\n",
        "\n",
        "for item in tqdm(documents):\n",
        "    item['text'] = item['text'].replace(\"\\n\", \" \").replace(\"  \", \" \")\n",
        "    item[\"sentences\"] = [str(sen) for sen in nlp(item[\"text\"]).sents]\n",
        "    item[\"count_of_sentences\"] = len(item[\"sentences\"])\n"
      ]
    },
    {
      "cell_type": "code",
      "execution_count": 35,
      "id": "4aca221e",
      "metadata": {
        "colab": {
          "base_uri": "https://localhost:8080/"
        },
        "id": "4aca221e",
        "outputId": "8090e104-0c7f-4357-976b-cea889f16b58"
      },
      "outputs": [
        {
          "output_type": "stream",
          "name": "stdout",
          "text": [
            "{'count_of_sentences': 35,\n",
            " 'id': '05-03-ai-powered-supply-chain-startup-pando-lands-30m-investment.txt',\n",
            " 'sentences': ['Signaling that investments in the supply chain sector remain '\n",
            "               'robust, Pando, a startup developing fulfillment management '\n",
            "               'technologies, today announced that it raised $30 million in a '\n",
            "               'Series B round, bringing its total raised to $45 million.',\n",
            "               'Iron Pillar and Uncorrelated Ventures led the round, with '\n",
            "               'participation from existing investors Nexus Venture Partners, '\n",
            "               'Chiratae Ventures and Next47.',\n",
            "               'CEO and founder Nitin Jayakrishnan says that the new capital '\n",
            "               'will be put toward expanding Pando’s global sales, marketing '\n",
            "               'and delivery capabilities. “',\n",
            "               'We will not expand into new industries or adjacent product '\n",
            "               'areas,” he told TechCrunch in an email interview. “',\n",
            "               'Great talent is the foundation of the business — we will '\n",
            "               'continue to augment our teams at all levels of the '\n",
            "               'organization.',\n",
            "               'Pando is also open to exploring strategic partnerships and '\n",
            "               'acquisitions with this round of funding.”',\n",
            "               'Pando was co-launched by Jayakrishnan and Abhijeet Manohar, '\n",
            "               'who previously worked together at iDelivery, an India-based '\n",
            "               'freight tech marketplace — and their first startup.',\n",
            "               'The two saw firsthand manufacturers, distributors and '\n",
            "               'retailers were struggling with legacy tech and point solutions '\n",
            "               'to understand, optimize and manage their global logistics '\n",
            "               'operations — or at least, that’s the story Jayakrishnan tells. '\n",
            "               '“',\n",
            "               'Supply chain leaders were trying to build their own tech and '\n",
            "               'throwing people at the problem,” he said. “',\n",
            "               'This caught our attention — we spent months talking to and '\n",
            "               'building for enterprise users at warehouses, factories, '\n",
            "               'freight yards and ports and eventually, in 2018, decided to '\n",
            "               'start Pando to solve for global logistics through a '\n",
            "               'software-as-a-service platform offering.”',\n",
            "               'There’s truth to what Jayakrishnan’s expressing about pent-up '\n",
            "               'demand.',\n",
            "               'According to a recent McKinsey survey, supply chain companies '\n",
            "               'had — and have — a strong desire for tools that deliver '\n",
            "               'greater supply chain visibility.',\n",
            "               'Sixty-seven percent of respondents to the survey say that '\n",
            "               'they’ve implemented dashboards for this purpose, while over '\n",
            "               'half say that they’re investing in supply chain visibility '\n",
            "               'services more broadly.',\n",
            "               'Pando aims to meet the need by consolidating supply chain data '\n",
            "               'that resides in multiple silos within and outside of the '\n",
            "               'enterprise, including data on customers, suppliers, logistics '\n",
            "               'service providers, facilities and product SKUs.',\n",
            "               'The platform provides various tools and apps for accomplishing '\n",
            "               'different tasks across freight procurement, trade and '\n",
            "               'transport management, freight audit and payment and document '\n",
            "               'management, as well as dispatch planning and analytics.',\n",
            "               'Customers can customize the tools and apps or build their own '\n",
            "               'using Pando’s APIs.',\n",
            "               'This, along with the platform’s emphasis on no-code '\n",
            "               'capabilities, differentiates Pando from incumbents like SAP, '\n",
            "               'Oracle, Blue Yonder and E2Open, Jayakrishnan asserts. “',\n",
            "               'Pando comes pre-integrated with leading enterprise resource '\n",
            "               'planning (ERPs) systems and has ready APIs and a professional '\n",
            "               'services team to integrate with any new ERPs and enterprise '\n",
            "               'systems,” he added. “',\n",
            "               'Pando’s no-code capabilities enable business users to '\n",
            "               'customize the apps while maintaining platform integrity — '\n",
            "               'reducing the need for IT resources for each customization.”',\n",
            "               'Pando also taps algorithms and forms of machine learning to '\n",
            "               'make predictions around supply chain events.',\n",
            "               'For example, the platform attempts to match customer orders '\n",
            "               'with suppliers, customers through the “right” channel (in '\n",
            "               'terms of aspects like cost and carbon footprint) and '\n",
            "               'fulfillment strategy (e.g. mode of freight, carrier, etc.).',\n",
            "               'Beyond this, Pando can detect anomalies among deliveries, '\n",
            "               'orders and freight invoices and anticipate supply chain risk '\n",
            "               'given demand and supply trends.',\n",
            "               'Pando isn’t the only vendor doing this.',\n",
            "               'Altana, which bagged $100 million in venture capital last '\n",
            "               'October, uses an AI system to connect to and learn from '\n",
            "               'logistics and business-to-business data — creating a shared '\n",
            "               'view of supply chain networks.',\n",
            "               'Everstream, another Pando rival, offers its own dashboards for '\n",
            "               'data analysis, integrated with existing ERP, transportation '\n",
            "               'management and supplier relationship management systems.',\n",
            "               'But Pando has a compelling sales pitch, judging by its '\n",
            "               'momentum.',\n",
            "               'The company counts Fortune 500 manufacturers and retailers — '\n",
            "               'including P&G, J&J, Valvoline, Castrol, Cummins, Siemens, '\n",
            "               'Danaher and Accuride — among its customer base.',\n",
            "               'Since the startup’s Series A in 2020, revenue has grown 8x '\n",
            "               'while the number of customers has increased 5x, Jayakrishnan '\n",
            "               'said.',\n",
            "               'Asked whether he expects expansion to continue well into the '\n",
            "               'future, given the signs of potential trouble on the horizon, '\n",
            "               'Jayakrishnan seemed fairly optimistic.',\n",
            "               'He pointed to a Deloitte survey that found that more than 70% '\n",
            "               'of manufacturing companies have been impacted by supply chain '\n",
            "               'disruptions in the past year, with 90% of those companies '\n",
            "               'experiencing increased costs and declining productivity.',\n",
            "               'The result of those major disruptions?',\n",
            "               'The digital logistics market is estimated to climb to $46.5 '\n",
            "               'billion by 2025, per Markets and Markets — up from $17.4 '\n",
            "               'billion in 2019.',\n",
            "               'Crunchbase reports that investors poured more than $7 billion '\n",
            "               'in seed through growth-stage rounds globally for supply '\n",
            "               'chain-focused startups from January to October 2022, nearly '\n",
            "               'eclipsing 2021’s record-setting levels. “',\n",
            "               'Pando has a strong balance sheet and profit and loss '\n",
            "               'statement, with an eye on profitable growth,” Jayakrishnan '\n",
            "               'said. “',\n",
            "               'We’re are scaling operations in North America, Europe and '\n",
            "               'India with marquee customer wins and a network of strong '\n",
            "               'partners … Pando is well-positioned to ride this growth wave, '\n",
            "               'and drive supply chain agility for the 2030 economy.”'],\n",
            " 'text': 'Signaling that investments in the supply chain sector remain robust, '\n",
            "         'Pando, a startup developing fulfillment management technologies, '\n",
            "         'today announced that it raised $30 million in a Series B round, '\n",
            "         'bringing its total raised to $45 million. Iron Pillar and '\n",
            "         'Uncorrelated Ventures led the round, with participation from '\n",
            "         'existing investors Nexus Venture Partners, Chiratae Ventures and '\n",
            "         'Next47. CEO and founder Nitin Jayakrishnan says that the new capital '\n",
            "         'will be put toward expanding Pando’s global sales, marketing and '\n",
            "         'delivery capabilities. “We will not expand into new industries or '\n",
            "         'adjacent product areas,” he told TechCrunch in an email interview. '\n",
            "         '“Great talent is the foundation of the business — we will continue '\n",
            "         'to augment our teams at all levels of the organization. Pando is '\n",
            "         'also open to exploring strategic partnerships and acquisitions with '\n",
            "         'this round of funding.” Pando was co-launched by Jayakrishnan and '\n",
            "         'Abhijeet Manohar, who previously worked together at iDelivery, an '\n",
            "         'India-based freight tech marketplace — and their first startup. The '\n",
            "         'two saw firsthand manufacturers, distributors and retailers were '\n",
            "         'struggling with legacy tech and point solutions to understand, '\n",
            "         'optimize and manage their global logistics operations — or at least, '\n",
            "         'that’s the story Jayakrishnan tells. “Supply chain leaders were '\n",
            "         'trying to build their own tech and throwing people at the problem,” '\n",
            "         'he said. “This caught our attention — we spent months talking to and '\n",
            "         'building for enterprise users at warehouses, factories, freight '\n",
            "         'yards and ports and eventually, in 2018, decided to start Pando to '\n",
            "         'solve for global logistics through a software-as-a-service platform '\n",
            "         'offering.” There’s truth to what Jayakrishnan’s expressing about '\n",
            "         'pent-up demand. According to a recent McKinsey survey, supply chain '\n",
            "         'companies had — and have — a strong desire for tools that deliver '\n",
            "         'greater supply chain visibility. Sixty-seven percent of respondents '\n",
            "         'to the survey say that they’ve implemented dashboards for this '\n",
            "         'purpose, while over half say that they’re investing in supply chain '\n",
            "         'visibility services more broadly. Pando aims to meet the need by '\n",
            "         'consolidating supply chain data that resides in multiple silos '\n",
            "         'within and outside of the enterprise, including data on customers, '\n",
            "         'suppliers, logistics service providers, facilities and product SKUs. '\n",
            "         'The platform provides various tools and apps for accomplishing '\n",
            "         'different tasks across freight procurement, trade and transport '\n",
            "         'management, freight audit and payment and document management, as '\n",
            "         'well as dispatch planning and analytics. Customers can customize the '\n",
            "         'tools and apps or build their own using Pando’s APIs. This, along '\n",
            "         'with the platform’s emphasis on no-code capabilities, differentiates '\n",
            "         'Pando from incumbents like SAP, Oracle, Blue Yonder and E2Open, '\n",
            "         'Jayakrishnan asserts. “Pando comes pre-integrated with leading '\n",
            "         'enterprise resource planning (ERPs) systems and has ready APIs and a '\n",
            "         'professional services team to integrate with any new ERPs and '\n",
            "         'enterprise systems,” he added. “Pando’s no-code capabilities enable '\n",
            "         'business users to customize the apps while maintaining platform '\n",
            "         'integrity — reducing the need for IT resources for each '\n",
            "         'customization.” Pando also taps algorithms and forms of machine '\n",
            "         'learning to make predictions around supply chain events. For '\n",
            "         'example, the platform attempts to match customer orders with '\n",
            "         'suppliers, customers through the “right” channel (in terms of '\n",
            "         'aspects like cost and carbon footprint) and fulfillment strategy '\n",
            "         '(e.g. mode of freight, carrier, etc.). Beyond this, Pando can detect '\n",
            "         'anomalies among deliveries, orders and freight invoices and '\n",
            "         'anticipate supply chain risk given demand and supply trends. Pando '\n",
            "         'isn’t the only vendor doing this. Altana, which bagged $100 million '\n",
            "         'in venture capital last October, uses an AI system to connect to and '\n",
            "         'learn from logistics and business-to-business data — creating a '\n",
            "         'shared view of supply chain networks. Everstream, another Pando '\n",
            "         'rival, offers its own dashboards for data analysis, integrated with '\n",
            "         'existing ERP, transportation management and supplier relationship '\n",
            "         'management systems. But Pando has a compelling sales pitch, judging '\n",
            "         'by its momentum. The company counts Fortune 500 manufacturers and '\n",
            "         'retailers — including P&G, J&J, Valvoline, Castrol, Cummins, '\n",
            "         'Siemens, Danaher and Accuride — among its customer base. Since the '\n",
            "         'startup’s Series A in 2020, revenue has grown 8x while the number of '\n",
            "         'customers has increased 5x, Jayakrishnan said. Asked whether he '\n",
            "         'expects expansion to continue well into the future, given the signs '\n",
            "         'of potential trouble on the horizon, Jayakrishnan seemed fairly '\n",
            "         'optimistic. He pointed to a Deloitte survey that found that more '\n",
            "         'than 70% of manufacturing companies have been impacted by supply '\n",
            "         'chain disruptions in the past year, with 90% of those companies '\n",
            "         'experiencing increased costs and declining productivity. The result '\n",
            "         'of those major disruptions? The digital logistics market is '\n",
            "         'estimated to climb to $46.5 billion by 2025, per Markets and Markets '\n",
            "         '— up from $17.4 billion in 2019. Crunchbase reports that investors '\n",
            "         'poured more than $7 billion in seed through growth-stage rounds '\n",
            "         'globally for supply chain-focused startups from January to October '\n",
            "         '2022, nearly eclipsing 2021’s record-setting levels. “Pando has a '\n",
            "         'strong balance sheet and profit and loss statement, with an eye on '\n",
            "         'profitable growth,” Jayakrishnan said. “We’re are scaling operations '\n",
            "         'in North America, Europe and India with marquee customer wins and a '\n",
            "         'network of strong partners … Pando is well-positioned to ride this '\n",
            "         'growth wave, and drive supply chain agility for the 2030 economy.”'}\n"
          ]
        }
      ],
      "source": [
        "import pprint\n",
        "pprint.pprint(documents[0])"
      ]
    },
    {
      "cell_type": "code",
      "execution_count": 36,
      "id": "dbdd1999",
      "metadata": {
        "colab": {
          "base_uri": "https://localhost:8080/"
        },
        "id": "dbdd1999",
        "outputId": "f04bfaea-a3ac-4d8e-d48d-21346c166816"
      },
      "outputs": [
        {
          "output_type": "stream",
          "name": "stderr",
          "text": [
            "100%|██████████| 21/21 [00:00<00:00, 92.30it/s] "
          ]
        },
        {
          "output_type": "stream",
          "name": "stdout",
          "text": [
            "Created 131 chunks from 21 original documents\n"
          ]
        },
        {
          "output_type": "stream",
          "name": "stderr",
          "text": [
            "\n"
          ]
        }
      ],
      "source": [
        "\n",
        "num_sentence_chunk_size = 10\n",
        "\n",
        "def split_list(input_list: list, slice_size: int) -> list[list[str]]:\n",
        "    \"\"\"Splits the input_list into sublists of size slice_size\"\"\"\n",
        "    return [input_list[i:i + slice_size] for i in range(0, len(input_list), slice_size)]\n",
        "\n",
        "chunked_documents = []\n",
        "\n",
        "for item in tqdm(documents):\n",
        "    # Clean and process the original document\n",
        "    item['text'] = item['text'].replace(\"\\n\", \" \").replace(\"  \", \" \")\n",
        "    item[\"sentences\"] = [str(sen) for sen in nlp(item[\"text\"]).sents]\n",
        "    item[\"count_of_sentences\"] = len(item[\"sentences\"])\n",
        "\n",
        "    # Split sentences into chunks\n",
        "    sentence_chunks = split_list(input_list=item[\"sentences\"], slice_size=num_sentence_chunk_size)\n",
        "    num_chunks = len(sentence_chunks)\n",
        "\n",
        "    # Create a new document for each chunk\n",
        "    for chunk_idx, chunk_sentences in enumerate(sentence_chunks):\n",
        "        chunk_text = \" \".join(chunk_sentences)\n",
        "\n",
        "        chunk_doc = {\n",
        "            # Chunk content\n",
        "            \"chunk_text\": chunk_text,\n",
        "            # Chunk metadata\n",
        "            \"chunk_count\": num_chunks,\n",
        "\n",
        "\n",
        "            \"chunk_char_count\": len(chunk_text),\n",
        "            \"chunk_token_count\": len(chunk_text) / 4\n",
        "        }\n",
        "\n",
        "        # Add any other metadata from the original document you want to preserve\n",
        "        for key, value in item.items():\n",
        "            if key not in ['text', 'sentences', 'chunks'] and key not in chunk_doc:\n",
        "                chunk_doc[f\"original_{key}\"] = value\n",
        "\n",
        "        chunked_documents.append(chunk_doc)\n",
        "\n",
        "# Now chunked_documents contains your new list with chunk-based documents\n",
        "print(f\"Created {len(chunked_documents)} chunks from {len(documents)} original documents\")"
      ]
    },
    {
      "cell_type": "code",
      "execution_count": 37,
      "id": "1a8487d6",
      "metadata": {
        "colab": {
          "base_uri": "https://localhost:8080/"
        },
        "id": "1a8487d6",
        "outputId": "4018b604-bdd2-4475-eced-47c004545af4"
      },
      "outputs": [
        {
          "output_type": "stream",
          "name": "stdout",
          "text": [
            "{'chunk_char_count': 1660,\n",
            " 'chunk_count': 4,\n",
            " 'chunk_text': 'Signaling that investments in the supply chain sector remain '\n",
            "               'robust, Pando, a startup developing fulfillment management '\n",
            "               'technologies, today announced that it raised $30 million in a '\n",
            "               'Series B round, bringing its total raised to $45 million. Iron '\n",
            "               'Pillar and Uncorrelated Ventures led the round, with '\n",
            "               'participation from existing investors Nexus Venture Partners, '\n",
            "               'Chiratae Ventures and Next47. CEO and founder Nitin '\n",
            "               'Jayakrishnan says that the new capital will be put toward '\n",
            "               'expanding Pando’s global sales, marketing and delivery '\n",
            "               'capabilities. “ We will not expand into new industries or '\n",
            "               'adjacent product areas,” he told TechCrunch in an email '\n",
            "               'interview. “ Great talent is the foundation of the business — '\n",
            "               'we will continue to augment our teams at all levels of the '\n",
            "               'organization. Pando is also open to exploring strategic '\n",
            "               'partnerships and acquisitions with this round of funding.” '\n",
            "               'Pando was co-launched by Jayakrishnan and Abhijeet Manohar, '\n",
            "               'who previously worked together at iDelivery, an India-based '\n",
            "               'freight tech marketplace — and their first startup. The two '\n",
            "               'saw firsthand manufacturers, distributors and retailers were '\n",
            "               'struggling with legacy tech and point solutions to understand, '\n",
            "               'optimize and manage their global logistics operations — or at '\n",
            "               'least, that’s the story Jayakrishnan tells. “ Supply chain '\n",
            "               'leaders were trying to build their own tech and throwing '\n",
            "               'people at the problem,” he said. “ This caught our attention — '\n",
            "               'we spent months talking to and building for enterprise users '\n",
            "               'at warehouses, factories, freight yards and ports and '\n",
            "               'eventually, in 2018, decided to start Pando to solve for '\n",
            "               'global logistics through a software-as-a-service platform '\n",
            "               'offering.”',\n",
            " 'chunk_token_count': 415.0,\n",
            " 'original_count_of_sentences': 35,\n",
            " 'original_id': '05-03-ai-powered-supply-chain-startup-pando-lands-30m-investment.txt'}\n"
          ]
        }
      ],
      "source": [
        "pprint.pprint(chunked_documents[0])"
      ]
    },
    {
      "cell_type": "code",
      "execution_count": 38,
      "id": "b8381468",
      "metadata": {
        "colab": {
          "base_uri": "https://localhost:8080/"
        },
        "id": "b8381468",
        "outputId": "26315822-2453-4d6c-da04-886bd32d1b8a"
      },
      "outputs": [
        {
          "output_type": "execute_result",
          "data": {
            "text/plain": [
              "580.0"
            ]
          },
          "metadata": {},
          "execution_count": 38
        }
      ],
      "source": [
        "max(item['chunk_token_count'] for item in chunked_documents)"
      ]
    },
    {
      "cell_type": "code",
      "execution_count": 39,
      "id": "3a128383",
      "metadata": {
        "id": "3a128383"
      },
      "outputs": [],
      "source": [
        "# pprint.pprint(chunked_documents[0])"
      ]
    },
    {
      "cell_type": "code",
      "execution_count": 40,
      "id": "9ba06d14",
      "metadata": {
        "colab": {
          "base_uri": "https://localhost:8080/",
          "height": 1000
        },
        "id": "9ba06d14",
        "outputId": "1291b9bc-e3e7-4b2f-bfd2-4ec8148914ec"
      },
      "outputs": [
        {
          "output_type": "stream",
          "name": "stdout",
          "text": [
            "==== Generating embeddings... ====\n",
            "==== Generating embeddings... ====\n",
            "==== Generating embeddings... ====\n",
            "==== Generating embeddings... ====\n",
            "==== Generating embeddings... ====\n",
            "==== Generating embeddings... ====\n",
            "==== Generating embeddings... ====\n",
            "==== Generating embeddings... ====\n",
            "==== Generating embeddings... ====\n",
            "==== Generating embeddings... ====\n",
            "==== Generating embeddings... ====\n",
            "==== Generating embeddings... ====\n",
            "==== Generating embeddings... ====\n",
            "==== Generating embeddings... ====\n",
            "==== Generating embeddings... ====\n",
            "==== Generating embeddings... ====\n",
            "==== Generating embeddings... ====\n",
            "==== Generating embeddings... ====\n",
            "==== Generating embeddings... ====\n",
            "==== Generating embeddings... ====\n",
            "==== Generating embeddings... ====\n",
            "==== Generating embeddings... ====\n",
            "==== Generating embeddings... ====\n",
            "==== Generating embeddings... ====\n",
            "==== Generating embeddings... ====\n",
            "==== Generating embeddings... ====\n",
            "==== Generating embeddings... ====\n",
            "==== Generating embeddings... ====\n",
            "==== Generating embeddings... ====\n",
            "==== Generating embeddings... ====\n",
            "==== Generating embeddings... ====\n",
            "==== Generating embeddings... ====\n",
            "==== Generating embeddings... ====\n",
            "==== Generating embeddings... ====\n",
            "==== Generating embeddings... ====\n",
            "==== Generating embeddings... ====\n",
            "==== Generating embeddings... ====\n",
            "==== Generating embeddings... ====\n",
            "==== Generating embeddings... ====\n",
            "==== Generating embeddings... ====\n",
            "==== Generating embeddings... ====\n",
            "==== Generating embeddings... ====\n",
            "==== Generating embeddings... ====\n",
            "==== Generating embeddings... ====\n",
            "==== Generating embeddings... ====\n",
            "==== Generating embeddings... ====\n",
            "==== Generating embeddings... ====\n",
            "==== Generating embeddings... ====\n",
            "==== Generating embeddings... ====\n",
            "==== Generating embeddings... ====\n",
            "==== Generating embeddings... ====\n",
            "==== Generating embeddings... ====\n",
            "==== Generating embeddings... ====\n",
            "==== Generating embeddings... ====\n",
            "==== Generating embeddings... ====\n",
            "==== Generating embeddings... ====\n",
            "==== Generating embeddings... ====\n",
            "==== Generating embeddings... ====\n",
            "==== Generating embeddings... ====\n",
            "==== Generating embeddings... ====\n",
            "==== Generating embeddings... ====\n",
            "==== Generating embeddings... ====\n",
            "==== Generating embeddings... ====\n",
            "==== Generating embeddings... ====\n",
            "==== Generating embeddings... ====\n",
            "==== Generating embeddings... ====\n",
            "==== Generating embeddings... ====\n",
            "==== Generating embeddings... ====\n",
            "==== Generating embeddings... ====\n",
            "==== Generating embeddings... ====\n",
            "==== Generating embeddings... ====\n",
            "==== Generating embeddings... ====\n",
            "==== Generating embeddings... ====\n",
            "==== Generating embeddings... ====\n",
            "==== Generating embeddings... ====\n",
            "==== Generating embeddings... ====\n",
            "==== Generating embeddings... ====\n",
            "==== Generating embeddings... ====\n",
            "==== Generating embeddings... ====\n",
            "==== Generating embeddings... ====\n",
            "==== Generating embeddings... ====\n",
            "==== Generating embeddings... ====\n",
            "==== Generating embeddings... ====\n",
            "==== Generating embeddings... ====\n",
            "==== Generating embeddings... ====\n",
            "==== Generating embeddings... ====\n",
            "==== Generating embeddings... ====\n",
            "==== Generating embeddings... ====\n",
            "==== Generating embeddings... ====\n",
            "==== Generating embeddings... ====\n",
            "==== Generating embeddings... ====\n",
            "==== Generating embeddings... ====\n",
            "==== Generating embeddings... ====\n",
            "==== Generating embeddings... ====\n",
            "==== Generating embeddings... ====\n",
            "==== Generating embeddings... ====\n",
            "==== Generating embeddings... ====\n",
            "==== Generating embeddings... ====\n",
            "==== Generating embeddings... ====\n",
            "==== Generating embeddings... ====\n",
            "==== Generating embeddings... ====\n",
            "==== Generating embeddings... ====\n",
            "==== Generating embeddings... ====\n",
            "==== Generating embeddings... ====\n",
            "==== Generating embeddings... ====\n",
            "==== Generating embeddings... ====\n",
            "==== Generating embeddings... ====\n",
            "==== Generating embeddings... ====\n",
            "==== Generating embeddings... ====\n",
            "==== Generating embeddings... ====\n",
            "==== Generating embeddings... ====\n",
            "==== Generating embeddings... ====\n",
            "==== Generating embeddings... ====\n",
            "==== Generating embeddings... ====\n",
            "==== Generating embeddings... ====\n",
            "==== Generating embeddings... ====\n",
            "==== Generating embeddings... ====\n",
            "==== Generating embeddings... ====\n",
            "==== Generating embeddings... ====\n",
            "==== Generating embeddings... ====\n",
            "==== Generating embeddings... ====\n",
            "==== Generating embeddings... ====\n",
            "==== Generating embeddings... ====\n",
            "==== Generating embeddings... ====\n",
            "==== Generating embeddings... ====\n",
            "==== Generating embeddings... ====\n",
            "==== Generating embeddings... ====\n",
            "==== Generating embeddings... ====\n",
            "==== Generating embeddings... ====\n",
            "==== Generating embeddings... ====\n",
            "==== Generating embeddings... ====\n",
            "==== Generating embeddings... ====\n",
            "==== Generating embeddings... ====\n",
            "==== Generating embeddings... ====\n",
            "==== Generating embeddings... ====\n",
            "==== Generating embeddings... ====\n",
            "==== Generating embeddings... ====\n",
            "==== Generating embeddings... ====\n",
            "==== Generating embeddings... ====\n",
            "==== Generating embeddings... ====\n",
            "==== Generating embeddings... ====\n",
            "==== Generating embeddings... ====\n",
            "==== Generating embeddings... ====\n",
            "==== Generating embeddings... ====\n",
            "==== Generating embeddings... ====\n",
            "==== Generating embeddings... ====\n",
            "==== Generating embeddings... ====\n",
            "==== Generating embeddings... ====\n",
            "==== Generating embeddings... ====\n",
            "==== Generating embeddings... ====\n",
            "==== Generating embeddings... ====\n",
            "==== Generating embeddings... ====\n",
            "==== Generating embeddings... ====\n",
            "==== Generating embeddings... ====\n",
            "==== Generating embeddings... ====\n",
            "==== Generating embeddings... ====\n",
            "==== Generating embeddings... ====\n",
            "==== Generating embeddings... ====\n",
            "==== Generating embeddings... ====\n",
            "==== Generating embeddings... ====\n",
            "==== Generating embeddings... ====\n",
            "==== Generating embeddings... ====\n",
            "==== Generating embeddings... ====\n",
            "==== Generating embeddings... ====\n",
            "==== Generating embeddings... ====\n",
            "==== Generating embeddings... ====\n",
            "==== Generating embeddings... ====\n",
            "==== Generating embeddings... ====\n",
            "==== Generating embeddings... ====\n",
            "==== Generating embeddings... ====\n",
            "==== Generating embeddings... ====\n",
            "==== Generating embeddings... ====\n",
            "==== Generating embeddings... ====\n",
            "==== Generating embeddings... ====\n",
            "==== Generating embeddings... ====\n",
            "==== Generating embeddings... ====\n",
            "==== Generating embeddings... ====\n",
            "==== Generating embeddings... ====\n",
            "==== Generating embeddings... ====\n",
            "==== Generating embeddings... ====\n",
            "==== Generating embeddings... ====\n",
            "==== Generating embeddings... ====\n",
            "==== Generating embeddings... ====\n",
            "==== Generating embeddings... ====\n",
            "==== Generating embeddings... ====\n",
            "==== Generating embeddings... ====\n",
            "==== Generating embeddings... ====\n",
            "==== Generating embeddings... ====\n",
            "==== Generating embeddings... ====\n",
            "==== Generating embeddings... ====\n",
            "==== Generating embeddings... ====\n",
            "==== Generating embeddings... ====\n",
            "==== Generating embeddings... ====\n",
            "==== Generating embeddings... ====\n",
            "==== Generating embeddings... ====\n",
            "==== Generating embeddings... ====\n",
            "==== Generating embeddings... ====\n",
            "==== Generating embeddings... ====\n",
            "==== Generating embeddings... ====\n",
            "==== Generating embeddings... ====\n",
            "==== Generating embeddings... ====\n",
            "==== Generating embeddings... ====\n",
            "==== Generating embeddings... ====\n",
            "==== Generating embeddings... ====\n",
            "==== Generating embeddings... ====\n",
            "==== Generating embeddings... ====\n",
            "==== Generating embeddings... ====\n",
            "==== Generating embeddings... ====\n",
            "==== Generating embeddings... ====\n",
            "==== Generating embeddings... ====\n",
            "==== Generating embeddings... ====\n",
            "==== Generating embeddings... ====\n",
            "==== Generating embeddings... ====\n",
            "==== Generating embeddings... ====\n",
            "==== Generating embeddings... ====\n",
            "==== Generating embeddings... ====\n",
            "==== Generating embeddings... ====\n",
            "==== Generating embeddings... ====\n",
            "==== Generating embeddings... ====\n",
            "==== Generating embeddings... ====\n",
            "==== Generating embeddings... ====\n",
            "==== Generating embeddings... ====\n",
            "==== Generating embeddings... ====\n",
            "==== Generating embeddings... ====\n",
            "==== Generating embeddings... ====\n",
            "==== Generating embeddings... ====\n",
            "==== Generating embeddings... ====\n",
            "==== Generating embeddings... ====\n",
            "==== Generating embeddings... ====\n",
            "==== Generating embeddings... ====\n",
            "==== Generating embeddings... ====\n",
            "==== Generating embeddings... ====\n",
            "==== Generating embeddings... ====\n",
            "==== Generating embeddings... ====\n",
            "==== Generating embeddings... ====\n",
            "==== Generating embeddings... ====\n",
            "==== Generating embeddings... ====\n",
            "==== Generating embeddings... ====\n",
            "==== Generating embeddings... ====\n",
            "==== Generating embeddings... ====\n",
            "==== Generating embeddings... ====\n",
            "==== Generating embeddings... ====\n",
            "==== Generating embeddings... ====\n",
            "==== Generating embeddings... ====\n",
            "==== Generating embeddings... ====\n",
            "==== Generating embeddings... ====\n",
            "==== Generating embeddings... ====\n",
            "==== Generating embeddings... ====\n",
            "==== Generating embeddings... ====\n",
            "==== Generating embeddings... ====\n",
            "==== Generating embeddings... ====\n",
            "==== Generating embeddings... ====\n",
            "==== Generating embeddings... ====\n",
            "==== Generating embeddings... ====\n",
            "==== Generating embeddings... ====\n",
            "==== Generating embeddings... ====\n",
            "==== Generating embeddings... ====\n",
            "==== Generating embeddings... ====\n",
            "==== Generating embeddings... ====\n",
            "==== Generating embeddings... ====\n",
            "==== Generating embeddings... ====\n",
            "==== Generating embeddings... ====\n"
          ]
        }
      ],
      "source": [
        "def get_google_embedding(text):\n",
        "    # GoogleGenerativeAiEmbeddingFunction has a __call__ method\n",
        "    embeddings = embedding_func([text])\n",
        "    print(\"==== Generating embeddings... ====\")\n",
        "    return embeddings[0].tolist()\n",
        "\n",
        "# Generate embeddings for the document chunks\n",
        "for doc in chunked_documents:\n",
        "    print(\"==== Generating embeddings... ====\")\n",
        "    doc[\"embedding\"] = get_google_embedding(doc[\"chunk_text\"])"
      ]
    },
    {
      "cell_type": "code",
      "execution_count": 41,
      "id": "e5c255c0",
      "metadata": {
        "colab": {
          "base_uri": "https://localhost:8080/"
        },
        "id": "e5c255c0",
        "outputId": "86ea971b-ed4c-4e53-af38-471407e5ee64"
      },
      "outputs": [
        {
          "output_type": "stream",
          "name": "stdout",
          "text": [
            "==== Inserting chunks into db;;; ====\n",
            "==== Inserting chunks into db;;; ====\n",
            "==== Inserting chunks into db;;; ====\n",
            "==== Inserting chunks into db;;; ====\n",
            "==== Inserting chunks into db;;; ====\n",
            "==== Inserting chunks into db;;; ====\n",
            "==== Inserting chunks into db;;; ====\n",
            "==== Inserting chunks into db;;; ====\n",
            "==== Inserting chunks into db;;; ====\n",
            "==== Inserting chunks into db;;; ====\n",
            "==== Inserting chunks into db;;; ====\n",
            "==== Inserting chunks into db;;; ====\n",
            "==== Inserting chunks into db;;; ====\n",
            "==== Inserting chunks into db;;; ====\n",
            "==== Inserting chunks into db;;; ====\n",
            "==== Inserting chunks into db;;; ====\n",
            "==== Inserting chunks into db;;; ====\n",
            "==== Inserting chunks into db;;; ====\n",
            "==== Inserting chunks into db;;; ====\n",
            "==== Inserting chunks into db;;; ====\n",
            "==== Inserting chunks into db;;; ====\n",
            "==== Inserting chunks into db;;; ====\n",
            "==== Inserting chunks into db;;; ====\n",
            "==== Inserting chunks into db;;; ====\n",
            "==== Inserting chunks into db;;; ====\n",
            "==== Inserting chunks into db;;; ====\n",
            "==== Inserting chunks into db;;; ====\n",
            "==== Inserting chunks into db;;; ====\n",
            "==== Inserting chunks into db;;; ====\n",
            "==== Inserting chunks into db;;; ====\n",
            "==== Inserting chunks into db;;; ====\n",
            "==== Inserting chunks into db;;; ====\n",
            "==== Inserting chunks into db;;; ====\n",
            "==== Inserting chunks into db;;; ====\n",
            "==== Inserting chunks into db;;; ====\n",
            "==== Inserting chunks into db;;; ====\n",
            "==== Inserting chunks into db;;; ====\n",
            "==== Inserting chunks into db;;; ====\n",
            "==== Inserting chunks into db;;; ====\n",
            "==== Inserting chunks into db;;; ====\n",
            "==== Inserting chunks into db;;; ====\n",
            "==== Inserting chunks into db;;; ====\n",
            "==== Inserting chunks into db;;; ====\n",
            "==== Inserting chunks into db;;; ====\n",
            "==== Inserting chunks into db;;; ====\n",
            "==== Inserting chunks into db;;; ====\n",
            "==== Inserting chunks into db;;; ====\n",
            "==== Inserting chunks into db;;; ====\n",
            "==== Inserting chunks into db;;; ====\n",
            "==== Inserting chunks into db;;; ====\n",
            "==== Inserting chunks into db;;; ====\n",
            "==== Inserting chunks into db;;; ====\n",
            "==== Inserting chunks into db;;; ====\n",
            "==== Inserting chunks into db;;; ====\n",
            "==== Inserting chunks into db;;; ====\n",
            "==== Inserting chunks into db;;; ====\n",
            "==== Inserting chunks into db;;; ====\n",
            "==== Inserting chunks into db;;; ====\n",
            "==== Inserting chunks into db;;; ====\n",
            "==== Inserting chunks into db;;; ====\n",
            "==== Inserting chunks into db;;; ====\n",
            "==== Inserting chunks into db;;; ====\n",
            "==== Inserting chunks into db;;; ====\n",
            "==== Inserting chunks into db;;; ====\n",
            "==== Inserting chunks into db;;; ====\n",
            "==== Inserting chunks into db;;; ====\n",
            "==== Inserting chunks into db;;; ====\n",
            "==== Inserting chunks into db;;; ====\n",
            "==== Inserting chunks into db;;; ====\n",
            "==== Inserting chunks into db;;; ====\n",
            "==== Inserting chunks into db;;; ====\n",
            "==== Inserting chunks into db;;; ====\n",
            "==== Inserting chunks into db;;; ====\n",
            "==== Inserting chunks into db;;; ====\n",
            "==== Inserting chunks into db;;; ====\n",
            "==== Inserting chunks into db;;; ====\n",
            "==== Inserting chunks into db;;; ====\n",
            "==== Inserting chunks into db;;; ====\n",
            "==== Inserting chunks into db;;; ====\n",
            "==== Inserting chunks into db;;; ====\n",
            "==== Inserting chunks into db;;; ====\n",
            "==== Inserting chunks into db;;; ====\n",
            "==== Inserting chunks into db;;; ====\n",
            "==== Inserting chunks into db;;; ====\n",
            "==== Inserting chunks into db;;; ====\n",
            "==== Inserting chunks into db;;; ====\n",
            "==== Inserting chunks into db;;; ====\n",
            "==== Inserting chunks into db;;; ====\n",
            "==== Inserting chunks into db;;; ====\n",
            "==== Inserting chunks into db;;; ====\n",
            "==== Inserting chunks into db;;; ====\n",
            "==== Inserting chunks into db;;; ====\n",
            "==== Inserting chunks into db;;; ====\n",
            "==== Inserting chunks into db;;; ====\n",
            "==== Inserting chunks into db;;; ====\n",
            "==== Inserting chunks into db;;; ====\n",
            "==== Inserting chunks into db;;; ====\n",
            "==== Inserting chunks into db;;; ====\n",
            "==== Inserting chunks into db;;; ====\n",
            "==== Inserting chunks into db;;; ====\n",
            "==== Inserting chunks into db;;; ====\n",
            "==== Inserting chunks into db;;; ====\n",
            "==== Inserting chunks into db;;; ====\n",
            "==== Inserting chunks into db;;; ====\n",
            "==== Inserting chunks into db;;; ====\n",
            "==== Inserting chunks into db;;; ====\n",
            "==== Inserting chunks into db;;; ====\n",
            "==== Inserting chunks into db;;; ====\n",
            "==== Inserting chunks into db;;; ====\n",
            "==== Inserting chunks into db;;; ====\n",
            "==== Inserting chunks into db;;; ====\n",
            "==== Inserting chunks into db;;; ====\n",
            "==== Inserting chunks into db;;; ====\n",
            "==== Inserting chunks into db;;; ====\n",
            "==== Inserting chunks into db;;; ====\n",
            "==== Inserting chunks into db;;; ====\n",
            "==== Inserting chunks into db;;; ====\n",
            "==== Inserting chunks into db;;; ====\n",
            "==== Inserting chunks into db;;; ====\n",
            "==== Inserting chunks into db;;; ====\n",
            "==== Inserting chunks into db;;; ====\n",
            "==== Inserting chunks into db;;; ====\n",
            "==== Inserting chunks into db;;; ====\n",
            "==== Inserting chunks into db;;; ====\n",
            "==== Inserting chunks into db;;; ====\n",
            "==== Inserting chunks into db;;; ====\n",
            "==== Inserting chunks into db;;; ====\n",
            "==== Inserting chunks into db;;; ====\n",
            "==== Inserting chunks into db;;; ====\n",
            "==== Inserting chunks into db;;; ====\n",
            "==== Inserting chunks into db;;; ====\n"
          ]
        }
      ],
      "source": [
        "for doc in chunked_documents:\n",
        "    print(\"==== Inserting chunks into db;;; ====\")\n",
        "    collection.upsert(\n",
        "        ids=[doc[\"original_id\"]],\n",
        "        documents=[doc[\"chunk_text\"]],\n",
        "        embeddings=[doc[\"embedding\"]]\n",
        "    )"
      ]
    },
    {
      "cell_type": "code",
      "execution_count": 42,
      "id": "178b1c67",
      "metadata": {
        "id": "178b1c67"
      },
      "outputs": [],
      "source": [
        "def query_documents(question, n_results=2):\n",
        "    # query_embedding = get_openai_embedding(question)\n",
        "    results = collection.query(query_texts=question, n_results=n_results)\n",
        "\n",
        "    # Extract the relevant chunks\n",
        "    relevant_chunks = [doc for sublist in results[\"documents\"] for doc in sublist]\n",
        "    print(\"==== Returning relevant chunks ====\")\n",
        "    return relevant_chunks\n",
        "    # for idx, document in enumerate(results[\"documents\"][0]):\n",
        "    #     doc_id = results[\"ids\"][0][idx]\n",
        "    #     distance = results[\"distances\"][0][idx]\n",
        "    #     print(f\"Found document chunk: {document} (ID: {doc_id}, Distance: {distance})\")"
      ]
    },
    {
      "cell_type": "code",
      "execution_count": 43,
      "id": "7df0311b",
      "metadata": {
        "id": "7df0311b"
      },
      "outputs": [],
      "source": [
        "from langchain_google_genai import ChatGoogleGenerativeAI\n",
        "from langchain.schema import HumanMessage, SystemMessage\n",
        "\n",
        "def generate_response(question, relevant_chunks):\n",
        "    context = \"\\n\\n\".join(relevant_chunks)\n",
        "    prompt = (\n",
        "        \"You are an assistant for question-answering tasks. Use the following pieces of \"\n",
        "        \"retrieved context to answer the question. If you don't know the answer, say that you \"\n",
        "        \"don't know. Use three sentences maximum and keep the answer concise.\"\n",
        "        \"\\n\\nContext:\\n\" + context + \"\\n\\nQuestion:\\n\" + question\n",
        "    )\n",
        "\n",
        "    # Create messages in LangChain format\n",
        "    messages = [\n",
        "        SystemMessage(content=prompt),\n",
        "        HumanMessage(content=question)\n",
        "    ]\n",
        "\n",
        "    # Generate response using Google Gemini\n",
        "    response = model.invoke(messages)\n",
        "\n",
        "    return response.content"
      ]
    },
    {
      "cell_type": "code",
      "execution_count": 47,
      "id": "ab25d0f9",
      "metadata": {
        "colab": {
          "base_uri": "https://localhost:8080/",
          "height": 72
        },
        "id": "ab25d0f9",
        "outputId": "cad62614-8b7a-4c75-87f5-e17e4b79ac30"
      },
      "outputs": [
        {
          "output_type": "stream",
          "name": "stdout",
          "text": [
            "==== Returning relevant chunks ====\n",
            "I am sorry, but the provided context does not contain any information about politics. Therefore, I cannot answer your question.\n"
          ]
        }
      ],
      "source": [
        "question = \"tell me about Politics\"\n",
        "relevant_chunks = query_documents(question)\n",
        "answer = generate_response(question, relevant_chunks)\n",
        "\n",
        "print(answer)"
      ]
    },
    {
      "cell_type": "code",
      "execution_count": 44,
      "id": "a01dfee6",
      "metadata": {
        "id": "a01dfee6"
      },
      "outputs": [],
      "source": []
    },
    {
      "cell_type": "code",
      "execution_count": 44,
      "id": "be715ab3",
      "metadata": {
        "id": "be715ab3"
      },
      "outputs": [],
      "source": []
    },
    {
      "cell_type": "code",
      "execution_count": 44,
      "id": "7156e6b2",
      "metadata": {
        "id": "7156e6b2"
      },
      "outputs": [],
      "source": []
    },
    {
      "cell_type": "code",
      "execution_count": 44,
      "id": "d60c607b",
      "metadata": {
        "id": "d60c607b"
      },
      "outputs": [],
      "source": []
    },
    {
      "cell_type": "code",
      "metadata": {
        "id": "f821f6c5"
      },
      "source": [],
      "id": "f821f6c5",
      "execution_count": 44,
      "outputs": []
    },
    {
      "cell_type": "code",
      "source": [],
      "metadata": {
        "id": "OUx5NbGYSrBP"
      },
      "id": "OUx5NbGYSrBP",
      "execution_count": 44,
      "outputs": []
    }
  ],
  "metadata": {
    "kernelspec": {
      "display_name": "Python 3",
      "name": "python3"
    },
    "language_info": {
      "codemirror_mode": {
        "name": "ipython",
        "version": 3
      },
      "file_extension": ".py",
      "mimetype": "text/x-python",
      "name": "python",
      "nbconvert_exporter": "python",
      "pygments_lexer": "ipython3",
      "version": "3.12.2"
    },
    "colab": {
      "provenance": [],
      "gpuType": "T4"
    },
    "accelerator": "GPU"
  },
  "nbformat": 4,
  "nbformat_minor": 5
}